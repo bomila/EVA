{
  "nbformat": 4,
  "nbformat_minor": 0,
  "metadata": {
    "colab": {
      "name": "Assignment 5.ipynb",
      "version": "0.3.2",
      "provenance": []
    },
    "kernelspec": {
      "name": "python3",
      "display_name": "Python 3"
    },
    "accelerator": "GPU"
  },
  "cells": [
    {
      "cell_type": "code",
      "metadata": {
        "id": "eOzvQTcXxabv",
        "colab_type": "code",
        "colab": {
          "base_uri": "https://localhost:8080/",
          "height": 34
        },
        "outputId": "a3ad8f7f-2ebe-4cfe-ce37-25a64be69513"
      },
      "source": [
        "#import required libraries\n",
        "\n",
        "import numpy as np\n",
        "from keras.models import Sequential\n",
        "from keras.layers import Dense, Dropout, Activation, Flatten, Add, BatchNormalization\n",
        "from keras.layers import Convolution2D, MaxPooling2D\n",
        "from keras.utils import np_utils\n",
        "\n",
        "from keras.datasets import mnist\n",
        "from tensorflow import set_random_seed\n"
      ],
      "execution_count": 1,
      "outputs": [
        {
          "output_type": "stream",
          "text": [
            "Using TensorFlow backend.\n"
          ],
          "name": "stderr"
        }
      ]
    },
    {
      "cell_type": "code",
      "metadata": {
        "id": "Q1I0JedM3EKf",
        "colab_type": "code",
        "colab": {}
      },
      "source": [
        "set_random_seed(300)"
      ],
      "execution_count": 0,
      "outputs": []
    },
    {
      "cell_type": "code",
      "metadata": {
        "id": "JSojuHDoxjpx",
        "colab_type": "code",
        "colab": {
          "base_uri": "https://localhost:8080/",
          "height": 51
        },
        "outputId": "33589846-13af-46cf-8205-80b0d9ef6f00"
      },
      "source": [
        "# load the MNIST dataset\n",
        "(X_train, y_train), (X_test, y_test) = mnist.load_data()"
      ],
      "execution_count": 3,
      "outputs": [
        {
          "output_type": "stream",
          "text": [
            "Downloading data from https://s3.amazonaws.com/img-datasets/mnist.npz\n",
            "11493376/11490434 [==============================] - 2s 0us/step\n"
          ],
          "name": "stdout"
        }
      ]
    },
    {
      "cell_type": "code",
      "metadata": {
        "id": "Jcml8FwYxm0k",
        "colab_type": "code",
        "colab": {
          "base_uri": "https://localhost:8080/",
          "height": 303
        },
        "outputId": "a1b4b595-c809-4379-d67a-a63587337bf2"
      },
      "source": [
        "# summarize the dataset and show one image\n",
        "print (X_train.shape)\n",
        "from matplotlib import pyplot as plt\n",
        "%matplotlib inline\n",
        "plt.imshow(X_train[1])"
      ],
      "execution_count": 4,
      "outputs": [
        {
          "output_type": "stream",
          "text": [
            "(60000, 28, 28)\n"
          ],
          "name": "stdout"
        },
        {
          "output_type": "execute_result",
          "data": {
            "text/plain": [
              "<matplotlib.image.AxesImage at 0x7fcafc71a278>"
            ]
          },
          "metadata": {
            "tags": []
          },
          "execution_count": 4
        },
        {
          "output_type": "display_data",
          "data": {
            "image/png": "[encoded data removed]",
            "text/plain": [
              "<Figure size 432x288 with 1 Axes>"
            ]
          },
          "metadata": {
            "tags": []
          }
        }
      ]
    },
    {
      "cell_type": "code",
      "metadata": {
        "id": "fh7T1dC2GB61",
        "colab_type": "code",
        "colab": {
          "base_uri": "https://localhost:8080/",
          "height": 34
        },
        "outputId": "e53758e0-9bbd-4ec3-f614-857993e3af24"
      },
      "source": [
        "print (X_train.mean(),X_train.std())"
      ],
      "execution_count": 5,
      "outputs": [
        {
          "output_type": "stream",
          "text": [
            "33.318421449829934 78.56748998339798\n"
          ],
          "name": "stdout"
        }
      ]
    },
    {
      "cell_type": "code",
      "metadata": {
        "id": "AkEkUukIGzf-",
        "colab_type": "code",
        "colab": {
          "base_uri": "https://localhost:8080/",
          "height": 34
        },
        "outputId": "5bdfdc6e-92d9-4966-afb2-1a4cb5870b68"
      },
      "source": [
        "print (X_test.mean(),X_test.std())\n"
      ],
      "execution_count": 6,
      "outputs": [
        {
          "output_type": "stream",
          "text": [
            "33.791224489795916 79.17246322228644\n"
          ],
          "name": "stdout"
        }
      ]
    },
    {
      "cell_type": "code",
      "metadata": {
        "id": "6UZGMmLUG8IV",
        "colab_type": "code",
        "colab": {}
      },
      "source": [
        "train_X= X_train\n",
        "test_X = X_test"
      ],
      "execution_count": 0,
      "outputs": []
    },
    {
      "cell_type": "code",
      "metadata": {
        "id": "2UNb9eUXxpjN",
        "colab_type": "code",
        "colab": {}
      },
      "source": [
        "# Reshaping the images from 28x28 to 28x28x1, thus making the shape of the array contain channel information\n",
        "\n",
        "X_train = X_train.reshape(X_train.shape[0], 28, 28,1)\n",
        "X_test = X_test.reshape(X_test.shape[0], 28, 28,1)"
      ],
      "execution_count": 0,
      "outputs": []
    },
    {
      "cell_type": "markdown",
      "metadata": {
        "id": "ZflsQUtEHRt-",
        "colab_type": "text"
      },
      "source": [
        "### **Image Normalization**"
      ]
    },
    {
      "cell_type": "code",
      "metadata": {
        "id": "dTf3IGItHVrM",
        "colab_type": "code",
        "colab": {
          "base_uri": "https://localhost:8080/",
          "height": 68
        },
        "outputId": "9580adcf-68d8-4730-d8a0-0940f17ef403"
      },
      "source": [
        "# example of standardizing a image dataset\n",
        "from keras.datasets import mnist\n",
        "from keras.preprocessing.image import ImageDataGenerator\n",
        "# load dataset\n",
        "(trainX, trainy), (testX, testy) = mnist.load_data()\n",
        "# reshape dataset to have a single channel\n",
        "width, height, channels = trainX.shape[1], trainX.shape[2], 1\n",
        "trainX = trainX.reshape((trainX.shape[0], width, height, channels))\n",
        "testX = testX.reshape((testX.shape[0], width, height, channels))\n",
        "# report pixel means and standard deviations\n",
        "print('Statistics train=%.3f (%.3f), test=%.3f (%.3f)' % (trainX.mean(), trainX.std(), testX.mean(), testX.std()))\n",
        "\n",
        "# create generator that centers pixel values\n",
        "datagen = ImageDataGenerator(featurewise_center=True, featurewise_std_normalization=True)\n",
        "\n",
        "# calculate the mean on the training dataset\n",
        "datagen.fit(trainX)\n",
        "#print('Data Generator mean=%.3f, std=%.3f' % (datagen.mean, datagen.std))\n",
        "\n",
        "# demonstrate effect on a single batch of samples\n",
        "iterator = datagen.flow(trainX, trainy, batch_size=64)\n",
        "\n",
        "# get a batch\n",
        "batchX, batchy = iterator.next()\n",
        "\n",
        "# pixel stats in the batch\n",
        "print(batchX.shape, batchX.mean(), batchX.std())\n",
        "\n",
        "# demonstrate effect on entire training dataset\n",
        "iterator = datagen.flow(trainX, trainy, batch_size=len(trainX), shuffle=False)\n",
        "\n",
        "# get a batch\n",
        "batchX, batchy = iterator.next()\n",
        "\n",
        "# pixel stats in the batch\n",
        "print(batchX.shape, batchX.mean(), batchX.std())"
      ],
      "execution_count": 9,
      "outputs": [
        {
          "output_type": "stream",
          "text": [
            "Statistics train=33.318 (78.567), test=33.791 (79.172)\n",
            "(64, 28, 28, 1) 0.008841392 1.0089799\n",
            "(60000, 28, 28, 1) -3.4560264e-07 0.9999998\n"
          ],
          "name": "stdout"
        }
      ]
    },
    {
      "cell_type": "code",
      "metadata": {
        "id": "nbg_ZVp_HlVE",
        "colab_type": "code",
        "colab": {}
      },
      "source": [
        "iterator1 = datagen.flow(testX, testy, batch_size=len(testX), shuffle=False)\n",
        "batch_testX, batch_testy = iterator1.next()"
      ],
      "execution_count": 0,
      "outputs": []
    },
    {
      "cell_type": "markdown",
      "metadata": {
        "id": "2yBdRySDIQ4Z",
        "colab_type": "text"
      },
      "source": [
        "**Reshape the input to have the dimension for channel**"
      ]
    },
    {
      "cell_type": "code",
      "metadata": {
        "id": "aaeJ0dEyIQRD",
        "colab_type": "code",
        "colab": {}
      },
      "source": [
        "X_train = batchX\n",
        "X_test = batch_testX"
      ],
      "execution_count": 0,
      "outputs": []
    },
    {
      "cell_type": "code",
      "metadata": {
        "id": "K9A_nK0kIfKW",
        "colab_type": "code",
        "colab": {}
      },
      "source": [
        "y_train=batchy\n",
        "y_test=batch_testy"
      ],
      "execution_count": 0,
      "outputs": []
    },
    {
      "cell_type": "code",
      "metadata": {
        "id": "6yeiApIP3-bw",
        "colab_type": "code",
        "colab": {}
      },
      "source": [
        "# Converting integer labels into one-hot encodings as to make the label dimension same as the number of output neurons \n",
        "# Convert 1-dimensional class arrays to 10-dimensional class matrices\n",
        "\n",
        "y_train[:10]\n",
        "Y_train = np_utils.to_categorical(y_train, 10)\n",
        "Y_test = np_utils.to_categorical(y_test, 10)"
      ],
      "execution_count": 0,
      "outputs": []
    },
    {
      "cell_type": "code",
      "metadata": {
        "id": "O0SrCY4L4BlG",
        "colab_type": "code",
        "colab": {
          "base_uri": "https://localhost:8080/",
          "height": 187
        },
        "outputId": "eb31da6d-fa8a-44d0-fb25-07007cb771a1"
      },
      "source": [
        "# print one hot encoding values of 1st ten images\n",
        "Y_train[:10]"
      ],
      "execution_count": 14,
      "outputs": [
        {
          "output_type": "execute_result",
          "data": {
            "text/plain": [
              "array([[0., 0., 0., 0., 0., 1., 0., 0., 0., 0.],\n",
              "       [1., 0., 0., 0., 0., 0., 0., 0., 0., 0.],\n",
              "       [0., 0., 0., 0., 1., 0., 0., 0., 0., 0.],\n",
              "       [0., 1., 0., 0., 0., 0., 0., 0., 0., 0.],\n",
              "       [0., 0., 0., 0., 0., 0., 0., 0., 0., 1.],\n",
              "       [0., 0., 1., 0., 0., 0., 0., 0., 0., 0.],\n",
              "       [0., 1., 0., 0., 0., 0., 0., 0., 0., 0.],\n",
              "       [0., 0., 0., 1., 0., 0., 0., 0., 0., 0.],\n",
              "       [0., 1., 0., 0., 0., 0., 0., 0., 0., 0.],\n",
              "       [0., 0., 0., 0., 1., 0., 0., 0., 0., 0.]], dtype=float32)"
            ]
          },
          "metadata": {
            "tags": []
          },
          "execution_count": 14
        }
      ]
    },
    {
      "cell_type": "markdown",
      "metadata": {
        "id": "0IgscUcpL4k2",
        "colab_type": "text"
      },
      "source": [
        "### Model with relu activation function and L2-Regularizer"
      ]
    },
    {
      "cell_type": "code",
      "metadata": {
        "id": "8FsOVUS1x5CN",
        "colab_type": "code",
        "colab": {
          "base_uri": "https://localhost:8080/",
          "height": 1000
        },
        "outputId": "1febd2d9-3331-437d-99f9-237fb9654ae2"
      },
      "source": [
        "\n",
        "from keras import regularizers\n",
        "from keras.layers import Activation\n",
        "model = Sequential()\n",
        " \n",
        "model.add(Convolution2D(16, 3, 3, activation='relu', input_shape=(28,28,1),kernel_regularizer=regularizers.l2(0.001))) #26\n",
        "model.add(BatchNormalization())\n",
        "model.add(Activation('relu'))\n",
        "model.add(Dropout(0.1))\n",
        "\n",
        "model.add(Convolution2D(32, 3, 3, activation='relu',kernel_regularizer=regularizers.l2(0.001))) #24\n",
        "model.add(BatchNormalization())\n",
        "model.add(Activation('relu'))\n",
        "model.add(Dropout(0.1))\n",
        "\n",
        "model.add(Convolution2D(10, 1, 1, activation='relu',kernel_regularizer=regularizers.l2(0.001))) #22\n",
        "\n",
        "model.add(MaxPooling2D(pool_size=(2, 2)))#11\n",
        "\n",
        "model.add(Convolution2D(16, 3, 3, activation='relu',kernel_regularizer=regularizers.l2(0.001)))#9\n",
        "model.add(BatchNormalization())\n",
        "model.add(Activation('relu'))\n",
        "model.add(Dropout(0.1))\n",
        "\n",
        "\n",
        "model.add(Convolution2D(16, 3, 3, activation='relu',kernel_regularizer=regularizers.l2(0.001)))#7\n",
        "model.add(BatchNormalization())\n",
        "model.add(Activation('relu'))\n",
        "model.add(Dropout(0.1))\n",
        "\n",
        "\n",
        "model.add(Convolution2D(16, 3, 3, activation='relu',kernel_regularizer=regularizers.l2(0.001)))#5\n",
        "model.add(BatchNormalization())\n",
        "model.add(Activation('relu'))\n",
        "model.add(Dropout(0.1))\n",
        "\n",
        "\n",
        "model.add(Convolution2D(16, 3, 3, activation='relu',kernel_regularizer=regularizers.l2(0.001)))#3\n",
        "model.add(BatchNormalization())\n",
        "model.add(Activation('relu'))\n",
        "model.add(Dropout(0.1))\n",
        "\n",
        "\n",
        "model.add(Convolution2D(10, 4, 4,kernel_regularizer=regularizers.l2(0.001)))\n",
        "model.add(BatchNormalization())\n",
        "model.add(Activation('relu'))\n",
        "model.add(Dropout(0.1))\n",
        "\n",
        "\n",
        "model.add(Flatten())\n",
        "model.add(Activation('softmax'))\n",
        "\n",
        "\n",
        "model.summary()"
      ],
      "execution_count": 15,
      "outputs": [
        {
          "output_type": "stream",
          "text": [
            "WARNING: Logging before flag parsing goes to stderr.\n",
            "W0801 21:42:46.886980 140511060301696 deprecation_wrapper.py:119] From /usr/local/lib/python3.6/dist-packages/keras/backend/tensorflow_backend.py:74: The name tf.get_default_graph is deprecated. Please use tf.compat.v1.get_default_graph instead.\n",
            "\n",
            "/usr/local/lib/python3.6/dist-packages/ipykernel_launcher.py:6: UserWarning: Update your `Conv2D` call to the Keras 2 API: `Conv2D(16, (3, 3), activation=\"relu\", input_shape=(28, 28, 1..., kernel_regularizer=<keras.reg...)`\n",
            "  \n",
            "W0801 21:42:46.897459 140511060301696 deprecation_wrapper.py:119] From /usr/local/lib/python3.6/dist-packages/keras/backend/tensorflow_backend.py:517: The name tf.placeholder is deprecated. Please use tf.compat.v1.placeholder instead.\n",
            "\n",
            "W0801 21:42:46.906903 140511060301696 deprecation_wrapper.py:119] From /usr/local/lib/python3.6/dist-packages/keras/backend/tensorflow_backend.py:4138: The name tf.random_uniform is deprecated. Please use tf.random.uniform instead.\n",
            "\n",
            "W0801 21:42:46.955555 140511060301696 deprecation_wrapper.py:119] From /usr/local/lib/python3.6/dist-packages/keras/backend/tensorflow_backend.py:174: The name tf.get_default_session is deprecated. Please use tf.compat.v1.get_default_session instead.\n",
            "\n",
            "W0801 21:42:46.956536 140511060301696 deprecation_wrapper.py:119] From /usr/local/lib/python3.6/dist-packages/keras/backend/tensorflow_backend.py:181: The name tf.ConfigProto is deprecated. Please use tf.compat.v1.ConfigProto instead.\n",
            "\n",
            "W0801 21:42:49.565903 140511060301696 deprecation_wrapper.py:119] From /usr/local/lib/python3.6/dist-packages/keras/backend/tensorflow_backend.py:1834: The name tf.nn.fused_batch_norm is deprecated. Please use tf.compat.v1.nn.fused_batch_norm instead.\n",
            "\n",
            "W0801 21:42:49.637630 140511060301696 deprecation.py:506] From /usr/local/lib/python3.6/dist-packages/keras/backend/tensorflow_backend.py:3445: calling dropout (from tensorflow.python.ops.nn_ops) with keep_prob is deprecated and will be removed in a future version.\n",
            "Instructions for updating:\n",
            "Please use `rate` instead of `keep_prob`. Rate should be set to `rate = 1 - keep_prob`.\n",
            "/usr/local/lib/python3.6/dist-packages/ipykernel_launcher.py:11: UserWarning: Update your `Conv2D` call to the Keras 2 API: `Conv2D(32, (3, 3), activation=\"relu\", kernel_regularizer=<keras.reg...)`\n",
            "  # This is added back by InteractiveShellApp.init_path()\n",
            "/usr/local/lib/python3.6/dist-packages/ipykernel_launcher.py:16: UserWarning: Update your `Conv2D` call to the Keras 2 API: `Conv2D(10, (1, 1), activation=\"relu\", kernel_regularizer=<keras.reg...)`\n",
            "  app.launch_new_instance()\n",
            "W0801 21:42:49.883856 140511060301696 deprecation_wrapper.py:119] From /usr/local/lib/python3.6/dist-packages/keras/backend/tensorflow_backend.py:3976: The name tf.nn.max_pool is deprecated. Please use tf.nn.max_pool2d instead.\n",
            "\n",
            "/usr/local/lib/python3.6/dist-packages/ipykernel_launcher.py:20: UserWarning: Update your `Conv2D` call to the Keras 2 API: `Conv2D(16, (3, 3), activation=\"relu\", kernel_regularizer=<keras.reg...)`\n",
            "/usr/local/lib/python3.6/dist-packages/ipykernel_launcher.py:26: UserWarning: Update your `Conv2D` call to the Keras 2 API: `Conv2D(16, (3, 3), activation=\"relu\", kernel_regularizer=<keras.reg...)`\n",
            "/usr/local/lib/python3.6/dist-packages/ipykernel_launcher.py:32: UserWarning: Update your `Conv2D` call to the Keras 2 API: `Conv2D(16, (3, 3), activation=\"relu\", kernel_regularizer=<keras.reg...)`\n",
            "/usr/local/lib/python3.6/dist-packages/ipykernel_launcher.py:38: UserWarning: Update your `Conv2D` call to the Keras 2 API: `Conv2D(16, (3, 3), activation=\"relu\", kernel_regularizer=<keras.reg...)`\n",
            "/usr/local/lib/python3.6/dist-packages/ipykernel_launcher.py:44: UserWarning: Update your `Conv2D` call to the Keras 2 API: `Conv2D(10, (4, 4), kernel_regularizer=<keras.reg...)`\n"
          ],
          "name": "stderr"
        },
        {
          "output_type": "stream",
          "text": [
            "_________________________________________________________________\n",
            "Layer (type)                 Output Shape              Param #   \n",
            "=================================================================\n",
            "conv2d_1 (Conv2D)            (None, 26, 26, 16)        160       \n",
            "_________________________________________________________________\n",
            "batch_normalization_1 (Batch (None, 26, 26, 16)        64        \n",
            "_________________________________________________________________\n",
            "activation_1 (Activation)    (None, 26, 26, 16)        0         \n",
            "_________________________________________________________________\n",
            "dropout_1 (Dropout)          (None, 26, 26, 16)        0         \n",
            "_________________________________________________________________\n",
            "conv2d_2 (Conv2D)            (None, 24, 24, 32)        4640      \n",
            "_________________________________________________________________\n",
            "batch_normalization_2 (Batch (None, 24, 24, 32)        128       \n",
            "_________________________________________________________________\n",
            "activation_2 (Activation)    (None, 24, 24, 32)        0         \n",
            "_________________________________________________________________\n",
            "dropout_2 (Dropout)          (None, 24, 24, 32)        0         \n",
            "_________________________________________________________________\n",
            "conv2d_3 (Conv2D)            (None, 24, 24, 10)        330       \n",
            "_________________________________________________________________\n",
            "max_pooling2d_1 (MaxPooling2 (None, 12, 12, 10)        0         \n",
            "_________________________________________________________________\n",
            "conv2d_4 (Conv2D)            (None, 10, 10, 16)        1456      \n",
            "_________________________________________________________________\n",
            "batch_normalization_3 (Batch (None, 10, 10, 16)        64        \n",
            "_________________________________________________________________\n",
            "activation_3 (Activation)    (None, 10, 10, 16)        0         \n",
            "_________________________________________________________________\n",
            "dropout_3 (Dropout)          (None, 10, 10, 16)        0         \n",
            "_________________________________________________________________\n",
            "conv2d_5 (Conv2D)            (None, 8, 8, 16)          2320      \n",
            "_________________________________________________________________\n",
            "batch_normalization_4 (Batch (None, 8, 8, 16)          64        \n",
            "_________________________________________________________________\n",
            "activation_4 (Activation)    (None, 8, 8, 16)          0         \n",
            "_________________________________________________________________\n",
            "dropout_4 (Dropout)          (None, 8, 8, 16)          0         \n",
            "_________________________________________________________________\n",
            "conv2d_6 (Conv2D)            (None, 6, 6, 16)          2320      \n",
            "_________________________________________________________________\n",
            "batch_normalization_5 (Batch (None, 6, 6, 16)          64        \n",
            "_________________________________________________________________\n",
            "activation_5 (Activation)    (None, 6, 6, 16)          0         \n",
            "_________________________________________________________________\n",
            "dropout_5 (Dropout)          (None, 6, 6, 16)          0         \n",
            "_________________________________________________________________\n",
            "conv2d_7 (Conv2D)            (None, 4, 4, 16)          2320      \n",
            "_________________________________________________________________\n",
            "batch_normalization_6 (Batch (None, 4, 4, 16)          64        \n",
            "_________________________________________________________________\n",
            "activation_6 (Activation)    (None, 4, 4, 16)          0         \n",
            "_________________________________________________________________\n",
            "dropout_6 (Dropout)          (None, 4, 4, 16)          0         \n",
            "_________________________________________________________________\n",
            "conv2d_8 (Conv2D)            (None, 1, 1, 10)          2570      \n",
            "_________________________________________________________________\n",
            "batch_normalization_7 (Batch (None, 1, 1, 10)          40        \n",
            "_________________________________________________________________\n",
            "activation_7 (Activation)    (None, 1, 1, 10)          0         \n",
            "_________________________________________________________________\n",
            "dropout_7 (Dropout)          (None, 1, 1, 10)          0         \n",
            "_________________________________________________________________\n",
            "flatten_1 (Flatten)          (None, 10)                0         \n",
            "_________________________________________________________________\n",
            "activation_8 (Activation)    (None, 10)                0         \n",
            "=================================================================\n",
            "Total params: 16,604\n",
            "Trainable params: 16,360\n",
            "Non-trainable params: 244\n",
            "_________________________________________________________________\n"
          ],
          "name": "stdout"
        }
      ]
    },
    {
      "cell_type": "markdown",
      "metadata": {
        "id": "OTby3FFB1PVL",
        "colab_type": "text"
      },
      "source": [
        "### Save model with best accuracy"
      ]
    },
    {
      "cell_type": "code",
      "metadata": {
        "id": "uY0FjbcH1Y7P",
        "colab_type": "code",
        "colab": {}
      },
      "source": [
        "import keras.callbacks\n",
        "from keras.callbacks import *\n",
        "checkpointer = ModelCheckpoint(filepath='save_model.h5', monitor='val_loss', mode='auto', verbose = 1, save_best_only=True)\n"
      ],
      "execution_count": 0,
      "outputs": []
    },
    {
      "cell_type": "markdown",
      "metadata": {
        "id": "egG1KQ78LKbx",
        "colab_type": "text"
      },
      "source": [
        "### compile the model"
      ]
    },
    {
      "cell_type": "code",
      "metadata": {
        "id": "FvmZP6MLx8di",
        "colab_type": "code",
        "colab": {}
      },
      "source": [
        "from keras.optimizers import Adam\n",
        "model.compile(loss='categorical_crossentropy', optimizer=Adam(lr=0.003), metrics=['accuracy'])\n"
      ],
      "execution_count": 0,
      "outputs": []
    },
    {
      "cell_type": "code",
      "metadata": {
        "id": "X1Vbx5xLyB4H",
        "colab_type": "code",
        "colab": {
          "base_uri": "https://localhost:8080/",
          "height": 1000
        },
        "outputId": "40bce3b5-cfb7-4d35-874a-03a0578aeac2"
      },
      "source": [
        "model.fit(X_train, Y_train, batch_size=128, nb_epoch=40, verbose=1,validation_data=(X_test, Y_test),callbacks=[checkpointer])"
      ],
      "execution_count": 32,
      "outputs": [
        {
          "output_type": "stream",
          "text": [
            "/usr/local/lib/python3.6/dist-packages/ipykernel_launcher.py:1: UserWarning: The `nb_epoch` argument in `fit` has been renamed `epochs`.\n",
            "  \"\"\"Entry point for launching an IPython kernel.\n"
          ],
          "name": "stderr"
        },
        {
          "output_type": "stream",
          "text": [
            "Train on 60000 samples, validate on 10000 samples\n",
            "Epoch 1/40\n",
            "60000/60000 [==============================] - 10s 161us/step - loss: 0.3418 - acc: 0.8936 - val_loss: 0.1451 - val_acc: 0.9768\n",
            "\n",
            "Epoch 00001: val_loss did not improve from 0.06972\n",
            "Epoch 2/40\n",
            "60000/60000 [==============================] - 7s 123us/step - loss: 0.3435 - acc: 0.8942 - val_loss: 0.1031 - val_acc: 0.9872\n",
            "\n",
            "Epoch 00002: val_loss did not improve from 0.06972\n",
            "Epoch 3/40\n",
            "60000/60000 [==============================] - 7s 123us/step - loss: 0.3504 - acc: 0.8915 - val_loss: 0.1193 - val_acc: 0.9844\n",
            "\n",
            "Epoch 00003: val_loss did not improve from 0.06972\n",
            "Epoch 4/40\n",
            "60000/60000 [==============================] - 8s 126us/step - loss: 0.3510 - acc: 0.8926 - val_loss: 0.1244 - val_acc: 0.9828\n",
            "\n",
            "Epoch 00004: val_loss did not improve from 0.06972\n",
            "Epoch 5/40\n",
            "60000/60000 [==============================] - 7s 124us/step - loss: 0.3508 - acc: 0.8933 - val_loss: 0.1143 - val_acc: 0.9868\n",
            "\n",
            "Epoch 00005: val_loss did not improve from 0.06972\n",
            "Epoch 6/40\n",
            "60000/60000 [==============================] - 7s 123us/step - loss: 0.3561 - acc: 0.8910 - val_loss: 0.1252 - val_acc: 0.9826\n",
            "\n",
            "Epoch 00006: val_loss did not improve from 0.06972\n",
            "Epoch 7/40\n",
            "60000/60000 [==============================] - 7s 122us/step - loss: 0.3607 - acc: 0.8888 - val_loss: 0.1084 - val_acc: 0.9874\n",
            "\n",
            "Epoch 00007: val_loss did not improve from 0.06972\n",
            "Epoch 8/40\n",
            "60000/60000 [==============================] - 7s 122us/step - loss: 0.3493 - acc: 0.8940 - val_loss: 0.1217 - val_acc: 0.9837\n",
            "\n",
            "Epoch 00008: val_loss did not improve from 0.06972\n",
            "Epoch 9/40\n",
            "60000/60000 [==============================] - 7s 121us/step - loss: 0.3510 - acc: 0.8927 - val_loss: 0.1331 - val_acc: 0.9826\n",
            "\n",
            "Epoch 00009: val_loss did not improve from 0.06972\n",
            "Epoch 10/40\n",
            "60000/60000 [==============================] - 7s 122us/step - loss: 0.3532 - acc: 0.8928 - val_loss: 0.1261 - val_acc: 0.9822\n",
            "\n",
            "Epoch 00010: val_loss did not improve from 0.06972\n",
            "Epoch 11/40\n",
            "60000/60000 [==============================] - 7s 122us/step - loss: 0.3448 - acc: 0.8956 - val_loss: 0.1229 - val_acc: 0.9832\n",
            "\n",
            "Epoch 00011: val_loss did not improve from 0.06972\n",
            "Epoch 12/40\n",
            "60000/60000 [==============================] - 7s 123us/step - loss: 0.3595 - acc: 0.8902 - val_loss: 0.1102 - val_acc: 0.9872\n",
            "\n",
            "Epoch 00012: val_loss did not improve from 0.06972\n",
            "Epoch 13/40\n",
            "60000/60000 [==============================] - 7s 122us/step - loss: 0.3456 - acc: 0.8945 - val_loss: 0.1599 - val_acc: 0.9747\n",
            "\n",
            "Epoch 00013: val_loss did not improve from 0.06972\n",
            "Epoch 14/40\n",
            "60000/60000 [==============================] - 7s 122us/step - loss: 0.3542 - acc: 0.8916 - val_loss: 0.1105 - val_acc: 0.9865\n",
            "\n",
            "Epoch 00014: val_loss did not improve from 0.06972\n",
            "Epoch 15/40\n",
            "60000/60000 [==============================] - 7s 121us/step - loss: 0.3557 - acc: 0.8917 - val_loss: 0.1015 - val_acc: 0.9888\n",
            "\n",
            "Epoch 00015: val_loss did not improve from 0.06972\n",
            "Epoch 16/40\n",
            "60000/60000 [==============================] - 7s 122us/step - loss: 0.3513 - acc: 0.8936 - val_loss: 0.1210 - val_acc: 0.9834\n",
            "\n",
            "Epoch 00016: val_loss did not improve from 0.06972\n",
            "Epoch 17/40\n",
            "60000/60000 [==============================] - 7s 122us/step - loss: 0.3559 - acc: 0.8921 - val_loss: 0.1009 - val_acc: 0.9905\n",
            "\n",
            "Epoch 00017: val_loss did not improve from 0.06972\n",
            "Epoch 18/40\n",
            "60000/60000 [==============================] - 7s 121us/step - loss: 0.3502 - acc: 0.8945 - val_loss: 0.1224 - val_acc: 0.9837\n",
            "\n",
            "Epoch 00018: val_loss did not improve from 0.06972\n",
            "Epoch 19/40\n",
            "60000/60000 [==============================] - 7s 122us/step - loss: 0.3475 - acc: 0.8943 - val_loss: 0.1148 - val_acc: 0.9860\n",
            "\n",
            "Epoch 00019: val_loss did not improve from 0.06972\n",
            "Epoch 20/40\n",
            "60000/60000 [==============================] - 7s 122us/step - loss: 0.3563 - acc: 0.8911 - val_loss: 0.1148 - val_acc: 0.9858\n",
            "\n",
            "Epoch 00020: val_loss did not improve from 0.06972\n",
            "Epoch 21/40\n",
            "60000/60000 [==============================] - 7s 123us/step - loss: 0.3505 - acc: 0.8940 - val_loss: 0.1303 - val_acc: 0.9829\n",
            "\n",
            "Epoch 00021: val_loss did not improve from 0.06972\n",
            "Epoch 22/40\n",
            "60000/60000 [==============================] - 7s 122us/step - loss: 0.3540 - acc: 0.8925 - val_loss: 0.1094 - val_acc: 0.9877\n",
            "\n",
            "Epoch 00022: val_loss did not improve from 0.06972\n",
            "Epoch 23/40\n",
            "60000/60000 [==============================] - 7s 122us/step - loss: 0.3493 - acc: 0.8935 - val_loss: 0.1003 - val_acc: 0.9897\n",
            "\n",
            "Epoch 00023: val_loss did not improve from 0.06972\n",
            "Epoch 24/40\n",
            "60000/60000 [==============================] - 7s 123us/step - loss: 0.3506 - acc: 0.8934 - val_loss: 0.1200 - val_acc: 0.9836\n",
            "\n",
            "Epoch 00024: val_loss did not improve from 0.06972\n",
            "Epoch 25/40\n",
            "60000/60000 [==============================] - 7s 121us/step - loss: 0.3540 - acc: 0.8927 - val_loss: 0.1053 - val_acc: 0.9869\n",
            "\n",
            "Epoch 00025: val_loss did not improve from 0.06972\n",
            "Epoch 26/40\n",
            "60000/60000 [==============================] - 7s 121us/step - loss: 0.3486 - acc: 0.8939 - val_loss: 0.1568 - val_acc: 0.9732\n",
            "\n",
            "Epoch 00026: val_loss did not improve from 0.06972\n",
            "Epoch 27/40\n",
            "60000/60000 [==============================] - 7s 123us/step - loss: 0.3472 - acc: 0.8937 - val_loss: 0.1245 - val_acc: 0.9820\n",
            "\n",
            "Epoch 00027: val_loss did not improve from 0.06972\n",
            "Epoch 28/40\n",
            "60000/60000 [==============================] - 7s 123us/step - loss: 0.3474 - acc: 0.8952 - val_loss: 0.1113 - val_acc: 0.9868\n",
            "\n",
            "Epoch 00028: val_loss did not improve from 0.06972\n",
            "Epoch 29/40\n",
            "60000/60000 [==============================] - 7s 122us/step - loss: 0.3502 - acc: 0.8929 - val_loss: 0.1145 - val_acc: 0.9853\n",
            "\n",
            "Epoch 00029: val_loss did not improve from 0.06972\n",
            "Epoch 30/40\n",
            "60000/60000 [==============================] - 7s 121us/step - loss: 0.3515 - acc: 0.8929 - val_loss: 0.1029 - val_acc: 0.9884\n",
            "\n",
            "Epoch 00030: val_loss did not improve from 0.06972\n",
            "Epoch 31/40\n",
            "60000/60000 [==============================] - 7s 120us/step - loss: 0.3475 - acc: 0.8957 - val_loss: 0.1011 - val_acc: 0.9875\n",
            "\n",
            "Epoch 00031: val_loss did not improve from 0.06972\n",
            "Epoch 32/40\n",
            "60000/60000 [==============================] - 7s 121us/step - loss: 0.3504 - acc: 0.8944 - val_loss: 0.1141 - val_acc: 0.9854\n",
            "\n",
            "Epoch 00032: val_loss did not improve from 0.06972\n",
            "Epoch 33/40\n",
            "60000/60000 [==============================] - 7s 121us/step - loss: 0.3479 - acc: 0.8940 - val_loss: 0.1285 - val_acc: 0.9836\n",
            "\n",
            "Epoch 00033: val_loss did not improve from 0.06972\n",
            "Epoch 34/40\n",
            "60000/60000 [==============================] - 7s 121us/step - loss: 0.3511 - acc: 0.8924 - val_loss: 0.1254 - val_acc: 0.9817\n",
            "\n",
            "Epoch 00034: val_loss did not improve from 0.06972\n",
            "Epoch 35/40\n",
            "60000/60000 [==============================] - 7s 121us/step - loss: 0.3509 - acc: 0.8943 - val_loss: 0.1035 - val_acc: 0.9890\n",
            "\n",
            "Epoch 00035: val_loss did not improve from 0.06972\n",
            "Epoch 36/40\n",
            "60000/60000 [==============================] - 7s 122us/step - loss: 0.3521 - acc: 0.8929 - val_loss: 0.1158 - val_acc: 0.9859\n",
            "\n",
            "Epoch 00036: val_loss did not improve from 0.06972\n",
            "Epoch 37/40\n",
            "60000/60000 [==============================] - 7s 122us/step - loss: 0.3524 - acc: 0.8931 - val_loss: 0.1274 - val_acc: 0.9833\n",
            "\n",
            "Epoch 00037: val_loss did not improve from 0.06972\n",
            "Epoch 38/40\n",
            "60000/60000 [==============================] - 7s 122us/step - loss: 0.3497 - acc: 0.8940 - val_loss: 0.1159 - val_acc: 0.9841\n",
            "\n",
            "Epoch 00038: val_loss did not improve from 0.06972\n",
            "Epoch 39/40\n",
            "60000/60000 [==============================] - 7s 122us/step - loss: 0.3452 - acc: 0.8952 - val_loss: 0.1133 - val_acc: 0.9859\n",
            "\n",
            "Epoch 00039: val_loss did not improve from 0.06972\n",
            "Epoch 40/40\n",
            "60000/60000 [==============================] - 7s 121us/step - loss: 0.3495 - acc: 0.8938 - val_loss: 0.1210 - val_acc: 0.9829\n",
            "\n",
            "Epoch 00040: val_loss did not improve from 0.06972\n"
          ],
          "name": "stdout"
        },
        {
          "output_type": "execute_result",
          "data": {
            "text/plain": [
              "<keras.callbacks.History at 0x7fca7a09eef0>"
            ]
          },
          "metadata": {
            "tags": []
          },
          "execution_count": 32
        }
      ]
    },
    {
      "cell_type": "code",
      "metadata": {
        "id": "puIOgXrRJaM1",
        "colab_type": "code",
        "colab": {
          "base_uri": "https://localhost:8080/",
          "height": 34
        },
        "outputId": "239eaab4-fbbe-4fcf-8de9-a72fd59d1fb4"
      },
      "source": [
        "score = model.evaluate(X_test, Y_test, verbose=0)\n",
        "print(score)"
      ],
      "execution_count": 33,
      "outputs": [
        {
          "output_type": "stream",
          "text": [
            "[0.1209671659231186, 0.9829]\n"
          ],
          "name": "stdout"
        }
      ]
    },
    {
      "cell_type": "markdown",
      "metadata": {
        "id": "JAhYz__dNq5K",
        "colab_type": "text"
      },
      "source": [
        "### **25 Misclassfied images**"
      ]
    },
    {
      "cell_type": "code",
      "metadata": {
        "id": "EeluzcZ9ODCK",
        "colab_type": "code",
        "colab": {}
      },
      "source": [
        "predict=model.predict_classes(X_test)"
      ],
      "execution_count": 0,
      "outputs": []
    },
    {
      "cell_type": "code",
      "metadata": {
        "id": "Uvyiu97NOIgX",
        "colab_type": "code",
        "colab": {}
      },
      "source": [
        "incorrects = np.nonzero(model.predict_classes(X_test).reshape((-1,)) != y_test)\n",
        "incorrects=incorrects[0]\n",
        "incorrects=incorrects.tolist()"
      ],
      "execution_count": 0,
      "outputs": []
    },
    {
      "cell_type": "code",
      "metadata": {
        "id": "c-zfHQK7OMA_",
        "colab_type": "code",
        "colab": {
          "base_uri": "https://localhost:8080/",
          "height": 365
        },
        "outputId": "518fc9f5-99e1-4b29-8d5e-ea9089f7496f"
      },
      "source": [
        "fig=plt.figure(figsize=(20,20))\n",
        "rows=10\n",
        "columns = 10\n",
        "i=0\n",
        "for j in (incorrects):\n",
        "  if i <25:\n",
        "    fig.add_subplot(rows,columns,i+1)\n",
        "    plt.imshow(test_X[j])\n",
        "    i=i+1\n",
        "plt.show()"
      ],
      "execution_count": 36,
      "outputs": [
        {
          "output_type": "display_data",
          "data": {
            "image/png": "[encoded data removed]",
            "text/plain": [
              "<Figure size 1440x1440 with 25 Axes>"
            ]
          },
          "metadata": {
            "tags": []
          }
        }
      ]
    },
    {
      "cell_type": "code",
      "metadata": {
        "id": "TpxeF5_dOQSh",
        "colab_type": "code",
        "colab": {}
      },
      "source": [
        ""
      ],
      "execution_count": 0,
      "outputs": []
    }
  ]
}