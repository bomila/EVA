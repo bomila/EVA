{
  "nbformat": 4,
  "nbformat_minor": 0,
  "metadata": {
    "accelerator": "GPU",
    "colab": {
      "name": "Slanted_One_Cycle_check_Callback.ipynb",
      "version": "0.3.2",
      "provenance": [],
      "collapsed_sections": []
    },
    "kernelspec": {
      "display_name": "Python 3",
      "language": "python",
      "name": "python3"
    },
    "language_info": {
      "codemirror_mode": {
        "name": "ipython",
        "version": 3
      },
      "file_extension": ".py",
      "mimetype": "text/x-python",
      "name": "python",
      "nbconvert_exporter": "python",
      "pygments_lexer": "ipython3",
      "version": "3.5.3"
    }
  },
  "cells": [
    {
      "cell_type": "markdown",
      "metadata": {
        "colab_type": "text",
        "deletable": true,
        "editable": true,
        "id": "aNyZv-Ec52ot"
      },
      "source": [
        "# **Approach and Results**\n",
        "\n",
        "This is the fourth iteration with three changes from Iter 3: (1) Moving Batch Norm after each convolution layer (2)  Dropout Layer after Batch Norm to reduce over fitting (3) Keeping number of channels fixed once a resolution of around 10x10 is reached"
      ]
    },
    {
      "cell_type": "code",
      "metadata": {
        "colab_type": "code",
        "deletable": true,
        "editable": true,
        "id": "3m3w1Cw49Zkt",
        "colab": {}
      },
      "source": [
        "# https://keras.io/\n",
        "# Istall keras in quiet mode without any output to stdout and then import keras\n",
        "!pip install -q keras\n",
        "import keras"
      ],
      "execution_count": 0,
      "outputs": []
    },
    {
      "cell_type": "markdown",
      "metadata": {
        "colab_type": "text",
        "deletable": true,
        "editable": true,
        "id": "GFbg0ldkXNyW"
      },
      "source": [
        ""
      ]
    },
    {
      "cell_type": "code",
      "metadata": {
        "colab_type": "code",
        "deletable": true,
        "editable": true,
        "id": "Eso6UHE080D4",
        "colab": {}
      },
      "source": [
        "# Make all other necessary imports, including the mnist dataset\n",
        "import os\n",
        "import numpy as np\n",
        "from keras.models import Sequential\n",
        "from keras import regularizers\n",
        "from keras.layers import Dense, Dropout, Activation, Flatten, Add, BatchNormalization\n",
        "from keras.layers import Convolution2D, MaxPooling2D\n",
        "from keras.preprocessing.image import ImageDataGenerator\n",
        "from keras.utils import np_utils\n",
        "\n",
        "from keras.datasets import mnist"
      ],
      "execution_count": 0,
      "outputs": []
    },
    {
      "cell_type": "markdown",
      "metadata": {
        "colab_type": "text",
        "deletable": true,
        "editable": true,
        "id": "zByEi95J86RD"
      },
      "source": [
        "### Load pre-shuffled MNIST data into train and test sets"
      ]
    },
    {
      "cell_type": "code",
      "metadata": {
        "colab_type": "code",
        "deletable": true,
        "editable": true,
        "id": "CY6xgqmWaRif",
        "colab": {}
      },
      "source": [
        "# kernel regularization hyperparameter\n",
        "ker_regul = 0.0001\n",
        "# Number of epochs\n",
        "epochs = 40\n",
        "# Batch size\n",
        "batch_size = 64\n",
        "# Dropout\n",
        "drout = 0.05"
      ],
      "execution_count": 0,
      "outputs": []
    },
    {
      "cell_type": "code",
      "metadata": {
        "colab_type": "code",
        "deletable": true,
        "editable": true,
        "id": "7eRM0QWN83PV",
        "colab": {}
      },
      "source": [
        "# Load the mnist data, load as train and test sets\n",
        "(X_train, Y_train), (X_test, Y_test) = mnist.load_data()"
      ],
      "execution_count": 0,
      "outputs": []
    },
    {
      "cell_type": "code",
      "metadata": {
        "colab_type": "code",
        "deletable": true,
        "editable": true,
        "id": "4a4Be72j8-ZC",
        "outputId": "d19a7f48-1bf1-403a-cf17-b5a79e57561e",
        "colab": {
          "base_uri": "https://localhost:8080/",
          "height": 304
        }
      },
      "source": [
        "# Verify by checking shape and by plotting one image from the train data set\n",
        "print (X_train.shape)\n",
        "from matplotlib import pyplot as plt\n",
        "%matplotlib inline\n",
        "plt.imshow(X_train[0])\n"
      ],
      "execution_count": 0,
      "outputs": [
        {
          "output_type": "stream",
          "text": [
            "(60000, 28, 28)\n"
          ],
          "name": "stdout"
        },
        {
          "output_type": "execute_result",
          "data": {
            "text/plain": [
              "<matplotlib.image.AxesImage at 0x7f089a46eac8>"
            ]
          },
          "metadata": {
            "tags": []
          },
          "execution_count": 58
        },
        {
          "output_type": "display_data",
          "data": {
            "image/png": "[encoded data removed]",
            "text/plain": [
              "<Figure size 432x288 with 1 Axes>"
            ]
          },
          "metadata": {
            "tags": []
          }
        }
      ]
    },
    {
      "cell_type": "code",
      "metadata": {
        "colab_type": "code",
        "deletable": true,
        "editable": true,
        "id": "dkmprriw9AnZ",
        "colab": {}
      },
      "source": [
        "# Explicitly reshape the train and test data into num samples x 28 x 28 x 1 channel\n",
        "width, height, channels = X_train.shape[1], X_train.shape[2], 1\n",
        "X_train = X_train.reshape(X_train.shape[0], width, height, channels)\n",
        "X_test = X_test.reshape(X_test.shape[0], width, height, channels)"
      ],
      "execution_count": 0,
      "outputs": []
    },
    {
      "cell_type": "code",
      "metadata": {
        "colab_type": "code",
        "deletable": true,
        "editable": true,
        "id": "DrwYYOGah-lb",
        "outputId": "dd9d359f-6ddf-44ce-c9e3-dcdb06bb26ee",
        "colab": {
          "base_uri": "https://localhost:8080/",
          "height": 34
        }
      },
      "source": [
        "# Report pixel means and standard deviations\n",
        "print('Statistics train=%.3f (%.3f), test=%.3f (%.3f)' % (X_train.mean(), X_train.std(), X_test.mean(), X_test.std()))\n"
      ],
      "execution_count": 0,
      "outputs": [
        {
          "output_type": "stream",
          "text": [
            "Statistics train=33.318 (78.567), test=33.791 (79.172)\n"
          ],
          "name": "stdout"
        }
      ]
    },
    {
      "cell_type": "code",
      "metadata": {
        "colab_type": "code",
        "deletable": true,
        "editable": true,
        "id": "YgCErShClEmV",
        "colab": {}
      },
      "source": [
        "# Convert the test and train data to float and then scale the values to the range [0,1]\n",
        "X_train = X_train.astype('float32')\n",
        "X_test = X_test.astype('float32')\n",
        "X_train /= 255\n",
        "X_test /= 255"
      ],
      "execution_count": 0,
      "outputs": []
    },
    {
      "cell_type": "code",
      "metadata": {
        "colab_type": "code",
        "deletable": true,
        "editable": true,
        "id": "CVnIZ6QAi4Zy",
        "outputId": "85b88179-99e0-403b-d4a7-fb66077c6801",
        "colab": {
          "base_uri": "https://localhost:8080/",
          "height": 52
        }
      },
      "source": [
        "# create generator that centers pixel values\n",
        "datagen = ImageDataGenerator(featurewise_center=True, featurewise_std_normalization=True)\n",
        "\n",
        "# calculate the mean on the training dataset\n",
        "datagen.fit(X_train)\n",
        "print('Data Generator training set mean=%.3f, training set std=%.3f' % (datagen.mean, datagen.std))\n",
        "\n",
        "# demonstrate effect on a single batch of samples\n",
        "iterator = datagen.flow(X_train, Y_train, batch_size=64)\n",
        "# get a batch\n",
        "batchX, batchy = iterator.next()\n",
        "# pixel stats in the batch\n",
        "print(batchX.shape, batchX.mean(), batchX.std())"
      ],
      "execution_count": 0,
      "outputs": [
        {
          "output_type": "stream",
          "text": [
            "Data Generator training set mean=0.131, training set std=0.308\n",
            "(64, 28, 28, 1) 0.002095252 1.0019991\n"
          ],
          "name": "stdout"
        }
      ]
    },
    {
      "cell_type": "code",
      "metadata": {
        "colab_type": "code",
        "deletable": true,
        "editable": true,
        "id": "0Mn0vAYD9DvB",
        "outputId": "2efbb0a0-8a8e-4d89-c098-27249d69dbb8",
        "colab": {
          "base_uri": "https://localhost:8080/",
          "height": 34
        }
      },
      "source": [
        "# Print the first 10 training labels in original form\n",
        "Y_train[:10]"
      ],
      "execution_count": 0,
      "outputs": [
        {
          "output_type": "execute_result",
          "data": {
            "text/plain": [
              "array([5, 0, 4, 1, 9, 2, 1, 3, 1, 4], dtype=uint8)"
            ]
          },
          "metadata": {
            "tags": []
          },
          "execution_count": 63
        }
      ]
    },
    {
      "cell_type": "code",
      "metadata": {
        "colab_type": "code",
        "deletable": true,
        "editable": true,
        "id": "ZG8JiXR39FHC",
        "colab": {}
      },
      "source": [
        "# Convert 1-dimensional class arrays to 10-dimensional class matrices using utility function\n",
        "Y_train = np_utils.to_categorical(Y_train, 10)\n",
        "Y_test = np_utils.to_categorical(Y_test, 10)"
      ],
      "execution_count": 0,
      "outputs": []
    },
    {
      "cell_type": "code",
      "metadata": {
        "colab_type": "code",
        "deletable": true,
        "editable": true,
        "id": "fYlFRvKS9HMB",
        "outputId": "8f4e8837-3cab-4466-83bb-9b3738605fe0",
        "colab": {
          "base_uri": "https://localhost:8080/",
          "height": 193
        }
      },
      "source": [
        "# Show the first 10 entries in the 10 dimensional one hot encoded class arrays\n",
        "Y_train[:10]\n"
      ],
      "execution_count": 0,
      "outputs": [
        {
          "output_type": "execute_result",
          "data": {
            "text/plain": [
              "array([[0., 0., 0., 0., 0., 1., 0., 0., 0., 0.],\n",
              "       [1., 0., 0., 0., 0., 0., 0., 0., 0., 0.],\n",
              "       [0., 0., 0., 0., 1., 0., 0., 0., 0., 0.],\n",
              "       [0., 1., 0., 0., 0., 0., 0., 0., 0., 0.],\n",
              "       [0., 0., 0., 0., 0., 0., 0., 0., 0., 1.],\n",
              "       [0., 0., 1., 0., 0., 0., 0., 0., 0., 0.],\n",
              "       [0., 1., 0., 0., 0., 0., 0., 0., 0., 0.],\n",
              "       [0., 0., 0., 1., 0., 0., 0., 0., 0., 0.],\n",
              "       [0., 1., 0., 0., 0., 0., 0., 0., 0., 0.],\n",
              "       [0., 0., 0., 0., 1., 0., 0., 0., 0., 0.]], dtype=float32)"
            ]
          },
          "metadata": {
            "tags": []
          },
          "execution_count": 65
        }
      ]
    },
    {
      "cell_type": "code",
      "metadata": {
        "colab_type": "code",
        "deletable": true,
        "editable": true,
        "id": "RMD63m0mpOZ7",
        "colab": {}
      },
      "source": [
        "# Build the model using Keras Sequential model, import Activation from keras as we will need relu and softmax activations\n",
        "\n",
        "from keras.layers import Activation\n",
        "model = Sequential()\n",
        "\n",
        "# Start with 1 Convolution layer for input layer\n",
        "model.add(Convolution2D(16, (3, 3), kernel_regularizer=regularizers.l2(ker_regul), input_shape=(28,28,1))) # Res=26x26\n",
        "model.add(BatchNormalization())\n",
        "model.add(Dropout(drout))\n",
        "\n",
        "# Repeat conv block with 1 Convolution layer Batch Norm and Dropout\n",
        "model.add(Convolution2D(16, (3, 3), kernel_regularizer=regularizers.l2(ker_regul))) # Res=24x24\n",
        "model.add(BatchNormalization())\n",
        "model.add(Activation('relu'))\n",
        "model.add(Dropout(drout))\n",
        "\n",
        "\n",
        "#Add Transition block Max Pooling to reduce resolution and 1x1 to reduce number of channels around 12x12\n",
        "model.add(MaxPooling2D(pool_size=(2, 2))) # Res=12x12\n",
        "model.add(Convolution2D(10, (1, 1))) # Res=12x12\n",
        "model.add(BatchNormalization())\n",
        "model.add(Activation('relu'))\n",
        "\n",
        "# Repeat conv block with 1 Convolution layer Batch Norm and Dropout\n",
        "model.add(Convolution2D(16, (3, 3), kernel_regularizer=regularizers.l2(ker_regul))) # Res=10x10\n",
        "model.add(BatchNormalization())\n",
        "model.add(Activation('relu'))\n",
        "model.add(Dropout(drout))\n",
        "\n",
        "\n",
        "# Repeat conv block with 1 Convolution layer Batch Norm and Dropout\n",
        "model.add(Convolution2D(16, (3, 3), kernel_regularizer=regularizers.l2(ker_regul))) # Res=8x8\n",
        "model.add(BatchNormalization())\n",
        "model.add(Activation('relu'))\n",
        "model.add(Dropout(drout))\n",
        "\n",
        "# Repeat conv block with 1 Convolution layer Batch Norm and Dropout\n",
        "model.add(Convolution2D(16, (3, 3), kernel_regularizer=regularizers.l2(ker_regul))) # Res=6x6\n",
        "model.add(BatchNormalization())\n",
        "model.add(Activation('relu'))\n",
        "model.add(Dropout(drout))\n",
        "\n",
        "# Repeat conv block with 1 Convolution layer Batch Norm and Dropout\n",
        "model.add(Convolution2D(16, (3, 3), kernel_regularizer=regularizers.l2(ker_regul))) # Res=4x4\n",
        "model.add(BatchNormalization())\n",
        "model.add(Activation('relu'))\n",
        "model.add(Dropout(drout))\n",
        "\n",
        "# Output Convolution without activation that will feed into a softmax activation\n",
        "model.add(Convolution2D(10, (4,4), kernel_regularizer=regularizers.l2(ker_regul))) #Res=1x1\n",
        "model.add(Flatten()) # we flatten the input into a vector to feed to softmax\n",
        "model.add(Activation('softmax')) # activation needed to carry out 10 way classification"
      ],
      "execution_count": 0,
      "outputs": []
    },
    {
      "cell_type": "code",
      "metadata": {
        "colab_type": "code",
        "deletable": true,
        "editable": true,
        "id": "bjOAVAQ9hU9L",
        "outputId": "25a33865-6ccc-4fb3-a893-30f28374eb4b",
        "colab": {
          "base_uri": "https://localhost:8080/",
          "height": 1000
        }
      },
      "source": [
        "# Summary of the model created above\n",
        "model.summary()"
      ],
      "execution_count": 0,
      "outputs": [
        {
          "output_type": "stream",
          "text": [
            "_________________________________________________________________\n",
            "Layer (type)                 Output Shape              Param #   \n",
            "=================================================================\n",
            "conv2d_17 (Conv2D)           (None, 26, 26, 16)        160       \n",
            "_________________________________________________________________\n",
            "batch_normalization_15 (Batc (None, 26, 26, 16)        64        \n",
            "_________________________________________________________________\n",
            "dropout_13 (Dropout)         (None, 26, 26, 16)        0         \n",
            "_________________________________________________________________\n",
            "conv2d_18 (Conv2D)           (None, 24, 24, 16)        2320      \n",
            "_________________________________________________________________\n",
            "batch_normalization_16 (Batc (None, 24, 24, 16)        64        \n",
            "_________________________________________________________________\n",
            "activation_15 (Activation)   (None, 24, 24, 16)        0         \n",
            "_________________________________________________________________\n",
            "dropout_14 (Dropout)         (None, 24, 24, 16)        0         \n",
            "_________________________________________________________________\n",
            "max_pooling2d_3 (MaxPooling2 (None, 12, 12, 16)        0         \n",
            "_________________________________________________________________\n",
            "conv2d_19 (Conv2D)           (None, 12, 12, 10)        170       \n",
            "_________________________________________________________________\n",
            "batch_normalization_17 (Batc (None, 12, 12, 10)        40        \n",
            "_________________________________________________________________\n",
            "activation_16 (Activation)   (None, 12, 12, 10)        0         \n",
            "_________________________________________________________________\n",
            "conv2d_20 (Conv2D)           (None, 10, 10, 16)        1456      \n",
            "_________________________________________________________________\n",
            "batch_normalization_18 (Batc (None, 10, 10, 16)        64        \n",
            "_________________________________________________________________\n",
            "activation_17 (Activation)   (None, 10, 10, 16)        0         \n",
            "_________________________________________________________________\n",
            "dropout_15 (Dropout)         (None, 10, 10, 16)        0         \n",
            "_________________________________________________________________\n",
            "conv2d_21 (Conv2D)           (None, 8, 8, 16)          2320      \n",
            "_________________________________________________________________\n",
            "batch_normalization_19 (Batc (None, 8, 8, 16)          64        \n",
            "_________________________________________________________________\n",
            "activation_18 (Activation)   (None, 8, 8, 16)          0         \n",
            "_________________________________________________________________\n",
            "dropout_16 (Dropout)         (None, 8, 8, 16)          0         \n",
            "_________________________________________________________________\n",
            "conv2d_22 (Conv2D)           (None, 6, 6, 16)          2320      \n",
            "_________________________________________________________________\n",
            "batch_normalization_20 (Batc (None, 6, 6, 16)          64        \n",
            "_________________________________________________________________\n",
            "activation_19 (Activation)   (None, 6, 6, 16)          0         \n",
            "_________________________________________________________________\n",
            "dropout_17 (Dropout)         (None, 6, 6, 16)          0         \n",
            "_________________________________________________________________\n",
            "conv2d_23 (Conv2D)           (None, 4, 4, 16)          2320      \n",
            "_________________________________________________________________\n",
            "batch_normalization_21 (Batc (None, 4, 4, 16)          64        \n",
            "_________________________________________________________________\n",
            "activation_20 (Activation)   (None, 4, 4, 16)          0         \n",
            "_________________________________________________________________\n",
            "dropout_18 (Dropout)         (None, 4, 4, 16)          0         \n",
            "_________________________________________________________________\n",
            "conv2d_24 (Conv2D)           (None, 1, 1, 10)          2570      \n",
            "_________________________________________________________________\n",
            "flatten_3 (Flatten)          (None, 10)                0         \n",
            "_________________________________________________________________\n",
            "activation_21 (Activation)   (None, 10)                0         \n",
            "=================================================================\n",
            "Total params: 14,060\n",
            "Trainable params: 13,848\n",
            "Non-trainable params: 212\n",
            "_________________________________________________________________\n"
          ],
          "name": "stdout"
        }
      ]
    },
    {
      "cell_type": "code",
      "metadata": {
        "id": "lF1S7jOhaROM",
        "colab_type": "code",
        "colab": {}
      },
      "source": [
        "# Implement One Cycle Policy Algorithm in the Keras Callback Class\n",
        "\n",
        "from sklearn.metrics import log_loss, roc_auc_score, accuracy_score\n",
        "from keras.losses import binary_crossentropy\n",
        "from keras.metrics import binary_accuracy\n",
        "from keras import backend as K\n",
        "from keras.callbacks import *\n",
        "\n",
        "class SlantedCylicLR(keras.callbacks.Callback):\n",
        "    \n",
        "    def __init__(self,base_lr, max_lr, step_size, base_m, max_m, cyclical_momentum, inc_fraction):\n",
        " \n",
        "        self.base_lr = base_lr\n",
        "        self.max_lr = max_lr\n",
        "        self.base_m = base_m\n",
        "        self.max_m = max_m\n",
        "        self.cyclical_momentum = cyclical_momentum\n",
        "        self.step_size = step_size\n",
        "        self.cycle_length = np.int(2*step_size)\n",
        "        self.inc_fraction = inc_fraction\n",
        "        \n",
        "        self.clr_iterations = 0.\n",
        "        self.cm_iterations = 0.\n",
        "        self.trn_iterations = 0.\n",
        "        self.history = {}\n",
        "        \n",
        "        \n",
        "    def clr(self):\n",
        "      \n",
        "      cycle = np.floor(1+self.clr_iterations/(2*self.step_size))\n",
        "      \n",
        "      if self.clr_iterations <= self.cycle_length*self.inc_fraction:\n",
        "        unit_cycle = self.clr_iterations * 1 / (self.cycle_length * self.inc_fraction)\n",
        "        adjusted_cycle = (unit_cycle * (self.max_lr - self.base_lr)) + self.base_lr\n",
        "        return adjusted_cycle\n",
        "      \n",
        "      elif (self.cycle_length*self.inc_fraction < self.clr_iterations <= self.cycle_length):\n",
        "        unit_cycle = (self.cycle_length - self.clr_iterations) * 1 / (self.cycle_length * (1 - self.inc_fraction))\n",
        "        adjusted_cycle = (unit_cycle * (self.max_lr - self.base_lr)) + self.base_lr\n",
        "        return adjusted_cycle\n",
        "        \n",
        "      else:\n",
        "        x = np.abs(self.clr_iterations/self.step_size - 2*cycle + 1)\n",
        "        adjusted_cycle = self.base_lr-(self.base_lr-self.base_lr/100)*np.maximum(0,(1-x))\n",
        "        return adjusted_cycle\n",
        "               \n",
        "  \n",
        "    \n",
        "    def cm(self):\n",
        "      \n",
        "        cycle = np.floor(1+self.clr_iterations/(2*self.step_size))\n",
        "      \n",
        "        if cycle == 2:\n",
        "            \n",
        "            x = np.abs(self.clr_iterations/self.step_size - 2*cycle + 1) \n",
        "            return self.max_m\n",
        "        \n",
        "        else:\n",
        "            x = np.abs(self.clr_iterations/self.step_size - 2*cycle + 1)\n",
        "            return self.max_m - (self.max_m-self.base_m)*np.maximum(0,(1-x))\n",
        "        \n",
        "        \n",
        "    def on_train_begin(self, logs={}):\n",
        "        logs = logs or {}\n",
        "\n",
        "        if self.clr_iterations == 0:\n",
        "            K.set_value(self.model.optimizer.lr, self.base_lr)\n",
        "        else:\n",
        "            K.set_value(self.model.optimizer.lr, self.clr())\n",
        "            \n",
        "        if self.cyclical_momentum == True:\n",
        "            if self.clr_iterations == 0:\n",
        "                K.set_value(self.model.optimizer.momentum, self.cm())\n",
        "            else:\n",
        "                K.set_value(self.model.optimizer.momentum, self.cm())\n",
        "            \n",
        "            \n",
        "    def on_batch_begin(self, batch, logs=None):\n",
        "        \n",
        "        logs = logs or {}\n",
        "        self.trn_iterations += 1\n",
        "        self.clr_iterations += 1\n",
        "\n",
        "        self.history.setdefault('lr', []).append(K.get_value(self.model.optimizer.lr))\n",
        "        self.history.setdefault('iterations', []).append(self.trn_iterations)\n",
        "        \n",
        "        if self.cyclical_momentum == True:\n",
        "            self.history.setdefault('momentum', []).append(K.get_value(self.model.optimizer.momentum))\n",
        "\n",
        "        for k, v in logs.items():\n",
        "            self.history.setdefault(k, []).append(v)\n",
        "        \n",
        "        K.set_value(self.model.optimizer.lr, self.clr())\n",
        "        \n",
        "        if self.cyclical_momentum == True:\n",
        "          K.set_value(self.model.optimizer.momentum, self.cm())\n"
      ],
      "execution_count": 0,
      "outputs": []
    },
    {
      "cell_type": "code",
      "metadata": {
        "id": "4Hx_vPur7GtQ",
        "colab_type": "code",
        "colab": {}
      },
      "source": [
        "from keras.optimizers import SGD\n",
        "model.compile(loss='binary_crossentropy', optimizer=SGD(0.0000001), metrics=['accuracy'])"
      ],
      "execution_count": 0,
      "outputs": []
    },
    {
      "cell_type": "code",
      "metadata": {
        "id": "Hyp8Z54_76YB",
        "colab_type": "code",
        "outputId": "202b838b-47de-4f80-af3e-5dfbe8e05551",
        "colab": {
          "base_uri": "https://localhost:8080/",
          "height": 105
        }
      },
      "source": [
        "# CLR parameters\n",
        "\n",
        "batch_size = 64\n",
        "epochs = 20\n",
        "max_lr = 0.50\n",
        "base_lr = 0.05 # Min_lr is 1/10 of max_lr\n",
        "max_m = 0.95\n",
        "base_m = 0.9*max_m  # Min momentum as 90% of max momentum\n",
        "\n",
        "cyclical_momentum = True\n",
        "augment = True\n",
        "cycles = 2.3  #Keep over 2.1 and below 2.6 this is the annealing portion\n",
        "\n",
        "iters = round((X_train.shape[0]/batch_size)*epochs)\n",
        "print(\"iterations\",iters)\n",
        "integer_cycles = np.round(cycles, 0)\n",
        "print(\"Int cycl\",integer_cycles )\n",
        "fraction_cycles = np.round((cycles - integer_cycles), 4)\n",
        "print(\"Fractional\", fraction_cycles)\n",
        "print(\"total iters - fractional\", np.int(iters*(1-fraction_cycles)))\n",
        "cycle_length = np.int(iters*(1-fraction_cycles))\n",
        "print(\"Cycle_length\", cycle_length)\n",
        "iterations = list(range(0,iters+1))\n",
        "step_size = len(iterations)/(cycles)"
      ],
      "execution_count": 0,
      "outputs": [
        {
          "output_type": "stream",
          "text": [
            "iterations 18750\n",
            "Int cycl 2.0\n",
            "Fractional 0.3\n",
            "total iters - fractional 13125\n",
            "Cycle_length 13125\n"
          ],
          "name": "stdout"
        }
      ]
    },
    {
      "cell_type": "code",
      "metadata": {
        "id": "vxw-BIE8V-cC",
        "colab_type": "code",
        "colab": {}
      },
      "source": [
        "slanted = SlantedCylicLR(base_lr=base_lr,max_lr=max_lr,step_size=step_size,base_m=base_m, max_m=max_m,cyclical_momentum=cyclical_momentum,inc_fraction=0.35)\n",
        "   "
      ],
      "execution_count": 0,
      "outputs": []
    },
    {
      "cell_type": "code",
      "metadata": {
        "colab_type": "code",
        "deletable": true,
        "editable": true,
        "id": "eVgSwFMDqh8I",
        "colab": {}
      },
      "source": [
        "# checkpoint for saving weights whenever val acc increases\n",
        "from keras.callbacks import ModelCheckpoint\n",
        "filepath=\"best_model_07_August_2019.hdf5\"\n",
        "checkpoint_dir = os.path.dirname(filepath)\n",
        "# alternatively use this line for saving only the best weights, this will keep getting overwritten during fit -- filepath=\"weights.best.hdf5\"\n",
        "checkpoint = ModelCheckpoint(filepath, monitor='val_acc', verbose=1, save_best_only=True, mode='max')\n",
        "\n",
        "callbacks_list = [checkpoint, clr]\n",
        "slant_callback = [checkpoint, slanted]"
      ],
      "execution_count": 0,
      "outputs": []
    },
    {
      "cell_type": "code",
      "metadata": {
        "colab_type": "code",
        "deletable": true,
        "editable": true,
        "id": "4xWoKhPY9Of5",
        "outputId": "3932e83c-4e72-4408-addf-6c31d272edc4",
        "colab": {
          "base_uri": "https://localhost:8080/",
          "height": 1000
        }
      },
      "source": [
        "# Train the model by fitting the training data to the one-hot-encoded training labels, include callback to scheduler for learning rate\n",
        "\n",
        "history = model.fit_generator(datagen.flow(X_train, Y_train, batch_size=batch_size),\n",
        "                        epochs=epochs,\n",
        "                        steps_per_epoch=1*(X_train.shape[0] // batch_size),\n",
        "                        validation_data=(X_test, Y_test),\n",
        "                        callbacks=slant_callback,verbose=1)"
      ],
      "execution_count": 0,
      "outputs": [
        {
          "output_type": "stream",
          "text": [
            "Epoch 1/20\n",
            "937/937 [==============================] - 15s 16ms/step - loss: 0.0165 - acc: 0.9974 - val_loss: 0.3275 - val_acc: 0.8976\n",
            "\n",
            "Epoch 00001: val_acc improved from -inf to 0.89765, saving model to best_model_07_August_2019.hdf5\n",
            "Epoch 2/20\n",
            "937/937 [==============================] - 15s 16ms/step - loss: 0.0192 - acc: 0.9964 - val_loss: 0.4134 - val_acc: 0.8886\n",
            "\n",
            "Epoch 00002: val_acc did not improve from 0.89765\n",
            "Epoch 3/20\n",
            "937/937 [==============================] - 15s 15ms/step - loss: 0.0215 - acc: 0.9960 - val_loss: 0.3619 - val_acc: 0.8917\n",
            "\n",
            "Epoch 00003: val_acc did not improve from 0.89765\n",
            "Epoch 4/20\n",
            "937/937 [==============================] - 14s 15ms/step - loss: 0.0221 - acc: 0.9961 - val_loss: 0.2956 - val_acc: 0.9046\n",
            "\n",
            "Epoch 00004: val_acc improved from 0.89765 to 0.90456, saving model to best_model_07_August_2019.hdf5\n",
            "Epoch 5/20\n",
            "937/937 [==============================] - 14s 15ms/step - loss: 0.0228 - acc: 0.9961 - val_loss: 0.4299 - val_acc: 0.8707\n",
            "\n",
            "Epoch 00005: val_acc did not improve from 0.90456\n",
            "Epoch 6/20\n",
            "937/937 [==============================] - 14s 15ms/step - loss: 0.0232 - acc: 0.9961 - val_loss: 0.4717 - val_acc: 0.8702\n",
            "\n",
            "Epoch 00006: val_acc did not improve from 0.90456\n",
            "Epoch 7/20\n",
            "937/937 [==============================] - 15s 16ms/step - loss: 0.0223 - acc: 0.9964 - val_loss: 0.3126 - val_acc: 0.8829\n",
            "\n",
            "Epoch 00007: val_acc did not improve from 0.90456\n",
            "Epoch 8/20\n",
            "937/937 [==============================] - 15s 16ms/step - loss: 0.0204 - acc: 0.9966 - val_loss: 0.3215 - val_acc: 0.8857\n",
            "\n",
            "Epoch 00008: val_acc did not improve from 0.90456\n",
            "Epoch 9/20\n",
            "937/937 [==============================] - 14s 15ms/step - loss: 0.0183 - acc: 0.9970 - val_loss: 0.1477 - val_acc: 0.9427\n",
            "\n",
            "Epoch 00009: val_acc improved from 0.90456 to 0.94275, saving model to best_model_07_August_2019.hdf5\n",
            "Epoch 10/20\n",
            "937/937 [==============================] - 14s 15ms/step - loss: 0.0179 - acc: 0.9969 - val_loss: 0.3242 - val_acc: 0.8954\n",
            "\n",
            "Epoch 00010: val_acc did not improve from 0.94275\n",
            "Epoch 11/20\n",
            "937/937 [==============================] - 14s 15ms/step - loss: 0.0175 - acc: 0.9970 - val_loss: 0.5268 - val_acc: 0.8601\n",
            "\n",
            "Epoch 00011: val_acc did not improve from 0.94275\n",
            "Epoch 12/20\n",
            "937/937 [==============================] - 14s 15ms/step - loss: 0.0175 - acc: 0.9970 - val_loss: 0.3795 - val_acc: 0.8724\n",
            "\n",
            "Epoch 00012: val_acc did not improve from 0.94275\n",
            "Epoch 13/20\n",
            "937/937 [==============================] - 14s 15ms/step - loss: 0.0163 - acc: 0.9972 - val_loss: 0.2715 - val_acc: 0.9035\n",
            "\n",
            "Epoch 00013: val_acc did not improve from 0.94275\n",
            "Epoch 14/20\n",
            "937/937 [==============================] - 14s 15ms/step - loss: 0.0159 - acc: 0.9974 - val_loss: 0.1825 - val_acc: 0.9371\n",
            "\n",
            "Epoch 00014: val_acc did not improve from 0.94275\n",
            "Epoch 15/20\n",
            "937/937 [==============================] - 14s 15ms/step - loss: 0.0155 - acc: 0.9974 - val_loss: 0.4334 - val_acc: 0.8705\n",
            "\n",
            "Epoch 00015: val_acc did not improve from 0.94275\n",
            "Epoch 16/20\n",
            "937/937 [==============================] - 14s 15ms/step - loss: 0.0142 - acc: 0.9976 - val_loss: 0.1831 - val_acc: 0.9275\n",
            "\n",
            "Epoch 00016: val_acc did not improve from 0.94275\n",
            "Epoch 17/20\n",
            "937/937 [==============================] - 14s 15ms/step - loss: 0.0130 - acc: 0.9978 - val_loss: 0.2215 - val_acc: 0.9129\n",
            "\n",
            "Epoch 00017: val_acc did not improve from 0.94275\n",
            "Epoch 18/20\n",
            "937/937 [==============================] - 14s 15ms/step - loss: 0.0110 - acc: 0.9982 - val_loss: 0.2230 - val_acc: 0.9203\n",
            "\n",
            "Epoch 00018: val_acc did not improve from 0.94275\n",
            "Epoch 19/20\n",
            "937/937 [==============================] - 14s 15ms/step - loss: 0.0098 - acc: 0.9985 - val_loss: 0.1266 - val_acc: 0.9505\n",
            "\n",
            "Epoch 00019: val_acc improved from 0.94275 to 0.95048, saving model to best_model_07_August_2019.hdf5\n",
            "Epoch 20/20\n",
            "937/937 [==============================] - 14s 15ms/step - loss: 0.0095 - acc: 0.9985 - val_loss: 0.2255 - val_acc: 0.9209\n",
            "\n",
            "Epoch 00020: val_acc did not improve from 0.95048\n"
          ],
          "name": "stdout"
        }
      ]
    },
    {
      "cell_type": "code",
      "metadata": {
        "id": "ku-x66itA9F3",
        "colab_type": "code",
        "outputId": "8dbba187-cec6-42dc-f518-6c5377dd9a4e",
        "colab": {
          "base_uri": "https://localhost:8080/",
          "height": 295
        }
      },
      "source": [
        "# Plot Learning Rate\n",
        "\n",
        "plt.plot(slanted.history['iterations'], slanted.history['lr'])\n",
        "plt.xlabel('Training Iterations')\n",
        "plt.ylabel('Learning Rate')\n",
        "plt.title(\"One Cycle Policy\")\n",
        "plt.show()"
      ],
      "execution_count": 0,
      "outputs": [
        {
          "output_type": "display_data",
          "data": {
            "image/png": "[encoded data removed]",
            "text/plain": [
              "<Figure size 432x288 with 1 Axes>"
            ]
          },
          "metadata": {
            "tags": []
          }
        }
      ]
    },
    {
      "cell_type": "code",
      "metadata": {
        "id": "JDdF8DcWCoQ7",
        "colab_type": "code",
        "outputId": "1d319e34-05b8-46c9-e4bf-e87a0be826f9",
        "colab": {
          "base_uri": "https://localhost:8080/",
          "height": 295
        }
      },
      "source": [
        "# Plot momentum\n",
        "\n",
        "plt.plot(slanted.history['iterations'], slanted.history['momentum'])\n",
        "plt.xlabel('Training Iterations')\n",
        "plt.ylabel('Momentum')\n",
        "plt.title(\"One Cycle Policy\")\n",
        "plt.show()"
      ],
      "execution_count": 0,
      "outputs": [
        {
          "output_type": "display_data",
          "data": {
            "image/png": "[encoded data removed]",
            "text/plain": [
              "<Figure size 432x288 with 1 Axes>"
            ]
          },
          "metadata": {
            "tags": []
          }
        }
      ]
    },
    {
      "cell_type": "code",
      "metadata": {
        "colab_type": "code",
        "deletable": true,
        "editable": true,
        "id": "klHMq8vIutbW",
        "outputId": "0b32582c-b044-4063-b0a2-1ed51016d93c",
        "colab": {
          "base_uri": "https://localhost:8080/",
          "height": 295
        }
      },
      "source": [
        "# Plot accuracies\n",
        "val_acc = history.history['val_acc']\n",
        "acc = history.history['acc']\n",
        "plt.plot(range(len(val_acc)),val_acc,'c',label='Validation acc')\n",
        "plt.plot(range(len(acc)),acc,'m',label='Train acc')\n",
        "\n",
        "plt.title('Training and validation accuracies')\n",
        "plt.legend()\n",
        "plt.xlabel('epochs')\n",
        "plt.show()"
      ],
      "execution_count": 0,
      "outputs": [
        {
          "output_type": "display_data",
          "data": {
            "image/png": "[encoded data removed]",
            "text/plain": [
              "<Figure size 432x288 with 1 Axes>"
            ]
          },
          "metadata": {
            "tags": []
          }
        }
      ]
    },
    {
      "cell_type": "code",
      "metadata": {
        "colab_type": "code",
        "deletable": true,
        "editable": true,
        "id": "9tvptcn8dxvp",
        "outputId": "3c4e5ddf-a64a-4779-dee2-e0154c625359",
        "colab": {
          "base_uri": "https://localhost:8080/",
          "height": 34
        }
      },
      "source": [
        "print(val_acc)\n"
      ],
      "execution_count": 0,
      "outputs": [
        {
          "output_type": "stream",
          "text": [
            "[0.8694800040245056, 0.8896099957466126]\n"
          ],
          "name": "stdout"
        }
      ]
    },
    {
      "cell_type": "code",
      "metadata": {
        "id": "bJ1qSVUgR27A",
        "colab_type": "code",
        "colab": {}
      },
      "source": [
        ""
      ],
      "execution_count": 0,
      "outputs": []
    }
  ]
}