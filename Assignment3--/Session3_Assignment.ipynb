{
  "nbformat": 4,
  "nbformat_minor": 0,
  "metadata": {
    "colab": {
      "name": "Copy_of_1st_DNN_final.ipynb",
      "version": "0.3.2",
      "provenance": [],
      "collapsed_sections": []
    },
    "kernelspec": {
      "name": "python3",
      "display_name": "Python 3"
    },
    "accelerator": "GPU"
  },
  "cells": [
    {
      "cell_type": "markdown",
      "metadata": {
        "id": "aNyZv-Ec52ot",
        "colab_type": "text"
      },
      "source": [
        "# **Import Libraries and modules**"
      ]
    },
    {
      "cell_type": "code",
      "metadata": {
        "id": "3m3w1Cw49Zkt",
        "colab_type": "code",
        "colab": {
          "base_uri": "https://localhost:8080/",
          "height": 34
        },
        "outputId": "b3c6b6bb-4f2a-415a-c5cd-89b37ab41d78"
      },
      "source": [
        "# install keras library and import keras module\n",
        "\n",
        "# https://keras.io/\n",
        "!pip install -q keras\n",
        "import keras"
      ],
      "execution_count": 1,
      "outputs": [
        {
          "output_type": "stream",
          "text": [
            "Using TensorFlow backend.\n"
          ],
          "name": "stderr"
        }
      ]
    },
    {
      "cell_type": "code",
      "metadata": {
        "id": "Eso6UHE080D4",
        "colab_type": "code",
        "colab": {}
      },
      "source": [
        "# here, we are importing numpy module with short name 'np' and importing sequential type model,\n",
        "# Flatten and convolution2D layers, util and mnist dataset\n",
        "\n",
        "\n",
        "import numpy as np\n",
        "\n",
        "from keras.models import Sequential\n",
        "from keras.layers import Dense, Dropout, Activation, Flatten, Add, BatchNormalization\n",
        "from keras.layers import Convolution2D, MaxPooling2D\n",
        "from keras.utils import np_utils\n",
        "\n",
        "from keras.datasets import mnist"
      ],
      "execution_count": 0,
      "outputs": []
    },
    {
      "cell_type": "markdown",
      "metadata": {
        "id": "zByEi95J86RD",
        "colab_type": "text"
      },
      "source": [
        "# Load pre-shuffled MNIST data into train and test sets"
      ]
    },
    {
      "cell_type": "code",
      "metadata": {
        "id": "7eRM0QWN83PV",
        "colab_type": "code",
        "colab": {}
      },
      "source": [
        "(X_train, y_train), (X_test, y_test) = mnist.load_data()"
      ],
      "execution_count": 0,
      "outputs": []
    },
    {
      "cell_type": "code",
      "metadata": {
        "id": "4a4Be72j8-ZC",
        "colab_type": "code",
        "outputId": "37ae8a10-6eb7-461f-ee00-a0d34d34f09a",
        "colab": {
          "base_uri": "https://localhost:8080/",
          "height": 303
        }
      },
      "source": [
        "# print shape of training data\n",
        "print (X_train.shape)\n",
        "\n",
        "# import pyplot module and print 0th training example from training dataset\n",
        "from matplotlib import pyplot as plt\n",
        "%matplotlib inline\n",
        "plt.imshow(X_train[0])"
      ],
      "execution_count": 4,
      "outputs": [
        {
          "output_type": "stream",
          "text": [
            "(60000, 28, 28)\n"
          ],
          "name": "stdout"
        },
        {
          "output_type": "execute_result",
          "data": {
            "text/plain": [
              "<matplotlib.image.AxesImage at 0x7f2b51840b38>"
            ]
          },
          "metadata": {
            "tags": []
          },
          "execution_count": 4
        },
        {
          "output_type": "display_data",
          "data": {
            "image/png": "[encoded data removed]",
            "text/plain": [
              "<Figure size 432x288 with 1 Axes>"
            ]
          },
          "metadata": {
            "tags": []
          }
        }
      ]
    },
    {
      "cell_type": "markdown",
      "metadata": {
        "id": "ajvoMpbQwUdQ",
        "colab_type": "text"
      },
      "source": [
        "# Preprocess input data for Keras"
      ]
    },
    {
      "cell_type": "code",
      "metadata": {
        "id": "dkmprriw9AnZ",
        "colab_type": "code",
        "colab": {}
      },
      "source": [
        "# reshape trining and test dataset \n",
        "X_train = X_train.reshape(X_train.shape[0], 28, 28,1)\n",
        "X_test = X_test.reshape(X_test.shape[0], 28, 28,1)"
      ],
      "execution_count": 0,
      "outputs": []
    },
    {
      "cell_type": "code",
      "metadata": {
        "id": "X2m4YS4E9CRh",
        "colab_type": "code",
        "colab": {}
      },
      "source": [
        "# convert train and test data into float and normalize values\n",
        "X_train = X_train.astype('float32')\n",
        "X_test = X_test.astype('float32')\n",
        "X_train /= 255\n",
        "X_test /= 255"
      ],
      "execution_count": 0,
      "outputs": []
    },
    {
      "cell_type": "markdown",
      "metadata": {
        "id": "gzza2RDWwajz",
        "colab_type": "text"
      },
      "source": [
        "# Preprocess class labels for Keras¶"
      ]
    },
    {
      "cell_type": "code",
      "metadata": {
        "id": "0Mn0vAYD9DvB",
        "colab_type": "code",
        "outputId": "6912cca5-92f3-485b-c7e6-bcda52be69de",
        "colab": {
          "base_uri": "https://localhost:8080/",
          "height": 34
        }
      },
      "source": [
        "# look at labels of first 10 training example\n",
        "y_train[:10]"
      ],
      "execution_count": 0,
      "outputs": [
        {
          "output_type": "execute_result",
          "data": {
            "text/plain": [
              "array([5, 0, 4, 1, 9, 2, 1, 3, 1, 4], dtype=uint8)"
            ]
          },
          "metadata": {
            "tags": []
          },
          "execution_count": 336
        }
      ]
    },
    {
      "cell_type": "code",
      "metadata": {
        "id": "ZG8JiXR39FHC",
        "colab_type": "code",
        "colab": {}
      },
      "source": [
        "# Convert 1-dimensional class arrays to 10-dimensional class matrices\n",
        "Y_train = np_utils.to_categorical(y_train, 10)\n",
        "Y_test = np_utils.to_categorical(y_test, 10)"
      ],
      "execution_count": 0,
      "outputs": []
    },
    {
      "cell_type": "code",
      "metadata": {
        "id": "fYlFRvKS9HMB",
        "colab_type": "code",
        "outputId": "c06b73ff-0367-41d5-9ac0-aec580980a76",
        "colab": {
          "base_uri": "https://localhost:8080/",
          "height": 187
        }
      },
      "source": [
        "Y_train[:10]\n"
      ],
      "execution_count": 0,
      "outputs": [
        {
          "output_type": "execute_result",
          "data": {
            "text/plain": [
              "array([[0., 0., 0., 0., 0., 1., 0., 0., 0., 0.],\n",
              "       [1., 0., 0., 0., 0., 0., 0., 0., 0., 0.],\n",
              "       [0., 0., 0., 0., 1., 0., 0., 0., 0., 0.],\n",
              "       [0., 1., 0., 0., 0., 0., 0., 0., 0., 0.],\n",
              "       [0., 0., 0., 0., 0., 0., 0., 0., 0., 1.],\n",
              "       [0., 0., 1., 0., 0., 0., 0., 0., 0., 0.],\n",
              "       [0., 1., 0., 0., 0., 0., 0., 0., 0., 0.],\n",
              "       [0., 0., 0., 1., 0., 0., 0., 0., 0., 0.],\n",
              "       [0., 1., 0., 0., 0., 0., 0., 0., 0., 0.],\n",
              "       [0., 0., 0., 0., 1., 0., 0., 0., 0., 0.]], dtype=float32)"
            ]
          },
          "metadata": {
            "tags": []
          },
          "execution_count": 338
        }
      ]
    },
    {
      "cell_type": "markdown",
      "metadata": {
        "id": "1Wl8DjZ1tWAm",
        "colab_type": "text"
      },
      "source": [
        "# Define model architecture"
      ]
    },
    {
      "cell_type": "code",
      "metadata": {
        "id": "EErnsSxyd-l9",
        "colab_type": "code",
        "outputId": "32073c2e-abd6-4646-934d-bd1956e98720",
        "colab": {
          "base_uri": "https://localhost:8080/",
          "height": 207
        }
      },
      "source": [
        "# Import Activation \n",
        "from keras.layers import Activation\n",
        "\n",
        "# Declare sequential model\n",
        "model = Sequential()\n",
        "\n",
        "# declare input layer, input shape parameter should be 1 sample and should be in the form of (depth, width, height) for image \n",
        "model.add(Convolution2D(10, 3, 3, activation='relu', input_shape=(28,28,1))) # 26 \n",
        "model.add(BatchNormalization())\n",
        "\n",
        "model.add(Convolution2D(10, 3, 3, activation='relu')) # 24                        receptive field= 3X3\n",
        "model.add(BatchNormalization())\n",
        "model.add(Convolution2D(20, 3, 3, activation='relu')) # 22                        receptive field= 5X5\n",
        "model.add(BatchNormalization())\n",
        "model.add(Dropout(0.1))\n",
        "          \n",
        "# add maxpooling layer of size 2\n",
        "model.add(MaxPooling2D(pool_size=(2, 2))) # 11\n",
        "          \n",
        "model.add(Convolution2D(10, 1, 1, activation='relu')) # 11                        receptive field= 7X7\n",
        "model.add(BatchNormalization())\n",
        "model.add(Dropout(0.1))\n",
        "\n",
        "\n",
        "model.add(Convolution2D(16, 3, 3, activation='relu')) # 9                         receptive field= 9X9\n",
        "model.add(BatchNormalization())\n",
        "model.add(Convolution2D(32, 3, 3, activation='relu')) # 7                         receptive field= 11X11\n",
        "model.add(BatchNormalization())\n",
        "model.add(Dropout(0.25))\n",
        "\n",
        "model.add(Convolution2D(10, 1, activation='relu')) #7                             receptive field= 13X13\n",
        "model.add(BatchNormalization())\n",
        "\n",
        "# final layer has an output size of 10\n",
        "model.add(Convolution2D(10, 7)) \n",
        "\n",
        "# add flatten layer\n",
        "model.add(Flatten())\n",
        "\n",
        "# add softmax activation function \n",
        "model.add(Activation('softmax'))"
      ],
      "execution_count": 0,
      "outputs": [
        {
          "output_type": "stream",
          "text": [
            "/usr/local/lib/python3.6/dist-packages/ipykernel_launcher.py:5: UserWarning: Update your `Conv2D` call to the Keras 2 API: `Conv2D(10, (3, 3), activation=\"relu\", input_shape=(28, 28, 1...)`\n",
            "  \"\"\"\n",
            "/usr/local/lib/python3.6/dist-packages/ipykernel_launcher.py:8: UserWarning: Update your `Conv2D` call to the Keras 2 API: `Conv2D(10, (3, 3), activation=\"relu\")`\n",
            "  \n",
            "/usr/local/lib/python3.6/dist-packages/ipykernel_launcher.py:10: UserWarning: Update your `Conv2D` call to the Keras 2 API: `Conv2D(20, (3, 3), activation=\"relu\")`\n",
            "  # Remove the CWD from sys.path while we load stuff.\n",
            "/usr/local/lib/python3.6/dist-packages/ipykernel_launcher.py:16: UserWarning: Update your `Conv2D` call to the Keras 2 API: `Conv2D(10, (1, 1), activation=\"relu\")`\n",
            "  app.launch_new_instance()\n",
            "/usr/local/lib/python3.6/dist-packages/ipykernel_launcher.py:21: UserWarning: Update your `Conv2D` call to the Keras 2 API: `Conv2D(16, (3, 3), activation=\"relu\")`\n",
            "/usr/local/lib/python3.6/dist-packages/ipykernel_launcher.py:23: UserWarning: Update your `Conv2D` call to the Keras 2 API: `Conv2D(32, (3, 3), activation=\"relu\")`\n"
          ],
          "name": "stderr"
        }
      ]
    },
    {
      "cell_type": "code",
      "metadata": {
        "id": "TzdAYg1k9K7Z",
        "colab_type": "code",
        "outputId": "1b4a31ac-608b-4274-8cce-7b2b59bab5d0",
        "colab": {
          "base_uri": "https://localhost:8080/",
          "height": 850
        }
      },
      "source": [
        "#summary of model\n",
        "model.summary()"
      ],
      "execution_count": 0,
      "outputs": [
        {
          "output_type": "stream",
          "text": [
            "_________________________________________________________________\n",
            "Layer (type)                 Output Shape              Param #   \n",
            "=================================================================\n",
            "conv2d_470 (Conv2D)          (None, 26, 26, 10)        100       \n",
            "_________________________________________________________________\n",
            "batch_normalization_336 (Bat (None, 26, 26, 10)        40        \n",
            "_________________________________________________________________\n",
            "conv2d_471 (Conv2D)          (None, 24, 24, 10)        910       \n",
            "_________________________________________________________________\n",
            "batch_normalization_337 (Bat (None, 24, 24, 10)        40        \n",
            "_________________________________________________________________\n",
            "conv2d_472 (Conv2D)          (None, 22, 22, 20)        1820      \n",
            "_________________________________________________________________\n",
            "batch_normalization_338 (Bat (None, 22, 22, 20)        80        \n",
            "_________________________________________________________________\n",
            "dropout_139 (Dropout)        (None, 22, 22, 20)        0         \n",
            "_________________________________________________________________\n",
            "max_pooling2d_82 (MaxPooling (None, 11, 11, 20)        0         \n",
            "_________________________________________________________________\n",
            "conv2d_473 (Conv2D)          (None, 11, 11, 10)        210       \n",
            "_________________________________________________________________\n",
            "batch_normalization_339 (Bat (None, 11, 11, 10)        40        \n",
            "_________________________________________________________________\n",
            "dropout_140 (Dropout)        (None, 11, 11, 10)        0         \n",
            "_________________________________________________________________\n",
            "conv2d_474 (Conv2D)          (None, 9, 9, 16)          1456      \n",
            "_________________________________________________________________\n",
            "batch_normalization_340 (Bat (None, 9, 9, 16)          64        \n",
            "_________________________________________________________________\n",
            "conv2d_475 (Conv2D)          (None, 7, 7, 32)          4640      \n",
            "_________________________________________________________________\n",
            "batch_normalization_341 (Bat (None, 7, 7, 32)          128       \n",
            "_________________________________________________________________\n",
            "dropout_141 (Dropout)        (None, 7, 7, 32)          0         \n",
            "_________________________________________________________________\n",
            "conv2d_476 (Conv2D)          (None, 7, 7, 10)          330       \n",
            "_________________________________________________________________\n",
            "batch_normalization_342 (Bat (None, 7, 7, 10)          40        \n",
            "_________________________________________________________________\n",
            "conv2d_477 (Conv2D)          (None, 1, 1, 10)          4910      \n",
            "_________________________________________________________________\n",
            "flatten_64 (Flatten)         (None, 10)                0         \n",
            "_________________________________________________________________\n",
            "activation_63 (Activation)   (None, 10)                0         \n",
            "=================================================================\n",
            "Total params: 14,808\n",
            "Trainable params: 14,592\n",
            "Non-trainable params: 216\n",
            "_________________________________________________________________\n"
          ],
          "name": "stdout"
        }
      ]
    },
    {
      "cell_type": "markdown",
      "metadata": {
        "id": "8QAmoshPvso4",
        "colab_type": "text"
      },
      "source": [
        "# Compile model"
      ]
    },
    {
      "cell_type": "code",
      "metadata": {
        "id": "Zp6SuGrL9M3h",
        "colab_type": "code",
        "colab": {}
      },
      "source": [
        "# compile the model, while compiling the model declare loss function and optimizer\n",
        "model.compile(loss='categorical_crossentropy',\n",
        "             optimizer='adam',\n",
        "             metrics=['accuracy'])"
      ],
      "execution_count": 0,
      "outputs": []
    },
    {
      "cell_type": "markdown",
      "metadata": {
        "id": "I8dQBJY0vzUR",
        "colab_type": "text"
      },
      "source": [
        "# Fit model on training data"
      ]
    },
    {
      "cell_type": "code",
      "metadata": {
        "id": "4xWoKhPY9Of5",
        "colab_type": "code",
        "outputId": "3d7d7ddc-cdbb-4862-b9cd-63a6e176cad6",
        "colab": {
          "base_uri": "https://localhost:8080/",
          "height": 428
        }
      },
      "source": [
        "# To train the model, pass training data, declare batch size and number of epochs\n",
        "model.fit(X_train, Y_train, batch_size=128, nb_epoch=10, verbose=1)"
      ],
      "execution_count": 0,
      "outputs": [
        {
          "output_type": "stream",
          "text": [
            "Epoch 1/10\n",
            "  896/60000 [..............................] - ETA: 9s - loss: 0.0019 - acc: 0.9989     "
          ],
          "name": "stdout"
        },
        {
          "output_type": "stream",
          "text": [
            "/usr/local/lib/python3.6/dist-packages/ipykernel_launcher.py:1: UserWarning: The `nb_epoch` argument in `fit` has been renamed `epochs`.\n",
            "  \"\"\"Entry point for launching an IPython kernel.\n"
          ],
          "name": "stderr"
        },
        {
          "output_type": "stream",
          "text": [
            "60000/60000 [==============================] - 8s 134us/step - loss: 0.0054 - acc: 0.9982\n",
            "Epoch 2/10\n",
            "60000/60000 [==============================] - 8s 130us/step - loss: 0.0052 - acc: 0.9981\n",
            "Epoch 3/10\n",
            "60000/60000 [==============================] - 7s 119us/step - loss: 0.0048 - acc: 0.9985\n",
            "Epoch 4/10\n",
            "60000/60000 [==============================] - 7s 119us/step - loss: 0.0047 - acc: 0.9984\n",
            "Epoch 5/10\n",
            "60000/60000 [==============================] - 7s 119us/step - loss: 0.0044 - acc: 0.9986\n",
            "Epoch 6/10\n",
            "60000/60000 [==============================] - 7s 119us/step - loss: 0.0046 - acc: 0.9983\n",
            "Epoch 7/10\n",
            "60000/60000 [==============================] - 7s 118us/step - loss: 0.0053 - acc: 0.9983\n",
            "Epoch 8/10\n",
            "60000/60000 [==============================] - 7s 119us/step - loss: 0.0053 - acc: 0.9984\n",
            "Epoch 9/10\n",
            "60000/60000 [==============================] - 7s 119us/step - loss: 0.0051 - acc: 0.9982\n",
            "Epoch 10/10\n",
            "60000/60000 [==============================] - 7s 118us/step - loss: 0.0055 - acc: 0.9983\n"
          ],
          "name": "stdout"
        },
        {
          "output_type": "execute_result",
          "data": {
            "text/plain": [
              "<keras.callbacks.History at 0x7f012564d438>"
            ]
          },
          "metadata": {
            "tags": []
          },
          "execution_count": 354
        }
      ]
    },
    {
      "cell_type": "markdown",
      "metadata": {
        "id": "5vTkTAECv8z-",
        "colab_type": "text"
      },
      "source": [
        "# Evaluate model on test data"
      ]
    },
    {
      "cell_type": "code",
      "metadata": {
        "id": "AtsH-lLk-eLb",
        "colab_type": "code",
        "colab": {}
      },
      "source": [
        "# Pass test data to evaluate model performance\n",
        "score = model.evaluate(X_test, Y_test, verbose=0)"
      ],
      "execution_count": 0,
      "outputs": []
    },
    {
      "cell_type": "code",
      "metadata": {
        "id": "mkX8JMv79q9r",
        "colab_type": "code",
        "outputId": "21c863ce-2c1c-4f55-950d-70334c08b1ae",
        "colab": {
          "base_uri": "https://localhost:8080/",
          "height": 34
        }
      },
      "source": [
        "# Print the score \n",
        "print(score)"
      ],
      "execution_count": 0,
      "outputs": [
        {
          "output_type": "stream",
          "text": [
            "[0.02948788119725559, 0.994]\n"
          ],
          "name": "stdout"
        }
      ]
    },
    {
      "cell_type": "code",
      "metadata": {
        "id": "OCWoJkwE9suh",
        "colab_type": "code",
        "colab": {}
      },
      "source": [
        "# predict labels of test data\n",
        "y_pred = model.predict(X_test)"
      ],
      "execution_count": 0,
      "outputs": []
    },
    {
      "cell_type": "code",
      "metadata": {
        "id": "Ym7iCFBm9uBs",
        "colab_type": "code",
        "outputId": "64e50282-ec4d-4e2d-ec36-d1c1058efb05",
        "colab": {
          "base_uri": "https://localhost:8080/",
          "height": 493
        }
      },
      "source": [
        "# print 1st ten prediction \n",
        "print(y_pred[:9])\n",
        "print(y_test[:9])"
      ],
      "execution_count": 0,
      "outputs": [
        {
          "output_type": "stream",
          "text": [
            "[[7.74288451e-18 3.64165268e-13 2.45784729e-12 2.56256127e-12\n",
            "  1.73554086e-15 6.35007234e-20 1.33081769e-22 1.00000000e+00\n",
            "  2.09771039e-19 5.45386965e-11]\n",
            " [2.10638093e-13 1.13721654e-08 1.00000000e+00 1.22814483e-16\n",
            "  4.59180372e-15 4.77563712e-20 6.12717732e-12 7.66562859e-16\n",
            "  2.33078971e-14 4.59739202e-16]\n",
            " [1.92819583e-13 1.00000000e+00 1.98286401e-10 2.78901685e-13\n",
            "  1.37127795e-10 2.28791430e-11 2.49719329e-10 2.73785483e-09\n",
            "  2.25065170e-12 5.65119175e-12]\n",
            " [1.00000000e+00 3.53002767e-17 2.69243183e-10 1.79464896e-13\n",
            "  9.59060148e-16 1.12482961e-12 2.59650967e-08 3.15559211e-14\n",
            "  2.72404842e-11 6.25130329e-12]\n",
            " [3.55885235e-18 1.13370359e-12 8.34543764e-16 3.71691165e-22\n",
            "  1.00000000e+00 8.69143469e-23 3.57969813e-18 6.07790278e-17\n",
            "  4.96465077e-18 1.28408875e-08]\n",
            " [2.31950689e-14 9.99999762e-01 3.96720226e-11 4.94451248e-14\n",
            "  5.40491714e-11 3.40874925e-14 1.84282342e-12 1.90641700e-07\n",
            "  2.23155980e-13 3.57549775e-12]\n",
            " [1.67964533e-20 5.26754204e-15 3.19284241e-15 1.72651050e-19\n",
            "  1.00000000e+00 2.74833778e-18 2.21901442e-20 2.20739789e-12\n",
            "  2.79553724e-12 6.09585316e-09]\n",
            " [1.45221658e-18 2.88265429e-16 6.96862307e-15 3.26922734e-14\n",
            "  2.35585174e-09 1.17088408e-18 1.13130934e-21 3.19097504e-14\n",
            "  4.73643217e-12 1.00000000e+00]\n",
            " [2.59859586e-15 6.44202728e-21 5.37562656e-19 1.17088977e-16\n",
            "  8.77738098e-19 9.99980927e-01 1.90470746e-05 1.23274702e-20\n",
            "  7.90727692e-11 1.30544051e-15]]\n",
            "[7 2 1 0 4 1 4 9 5]\n"
          ],
          "name": "stdout"
        }
      ]
    },
    {
      "cell_type": "code",
      "metadata": {
        "id": "CT--y98_dr2T",
        "colab_type": "code",
        "colab": {}
      },
      "source": [
        "layer_dict = dict([(layer.name, layer) for layer in model.layers])"
      ],
      "execution_count": 0,
      "outputs": []
    },
    {
      "cell_type": "code",
      "metadata": {
        "id": "2GY4Upv4dsUR",
        "colab_type": "code",
        "colab": {}
      },
      "source": [
        "import numpy as np\n",
        "from matplotlib import pyplot as plt\n",
        "from keras import backend as K\n",
        "%matplotlib inline\n",
        "# util function to convert a tensor into a valid image\n",
        "def deprocess_image(x):\n",
        "    # normalize tensor: center on 0., ensure std is 0.1\n",
        "    x -= x.mean()\n",
        "    x /= (x.std() + 1e-5)\n",
        "    x *= 0.1\n",
        "\n",
        "    # clip to [0, 1]\n",
        "    x += 0.5\n",
        "    x = np.clip(x, 0, 1)\n",
        "\n",
        "    # convert to RGB array\n",
        "    x *= 255\n",
        "    #x = x.transpose((1, 2, 0))\n",
        "    x = np.clip(x, 0, 255).astype('uint8')\n",
        "    return x\n",
        "\n",
        "def vis_img_in_filter(img = np.array(X_train[2]).reshape((1, 28, 28, 1)).astype(np.float64), \n",
        "                      layer_name = 'conv2d_14'):\n",
        "    layer_output = layer_dict[layer_name].output\n",
        "    img_ascs = list()\n",
        "    for filter_index in range(layer_output.shape[3]):\n",
        "        # build a loss function that maximizes the activation\n",
        "        # of the nth filter of the layer considered\n",
        "        loss = K.mean(layer_output[:, :, :, filter_index])\n",
        "\n",
        "        # compute the gradient of the input picture wrt this loss\n",
        "        grads = K.gradients(loss, model.input)[0]\n",
        "\n",
        "        # normalization trick: we normalize the gradient\n",
        "        grads /= (K.sqrt(K.mean(K.square(grads))) + 1e-5)\n",
        "\n",
        "        # this function returns the loss and grads given the input picture\n",
        "        iterate = K.function([model.input], [loss, grads])\n",
        "\n",
        "        # step size for gradient ascent\n",
        "        step = 5.\n",
        "\n",
        "        img_asc = np.array(img)\n",
        "        # run gradient ascent for 20 steps\n",
        "        for i in range(20):\n",
        "            loss_value, grads_value = iterate([img_asc])\n",
        "            img_asc += grads_value * step\n",
        "\n",
        "        img_asc = img_asc[0]\n",
        "        img_ascs.append(deprocess_image(img_asc).reshape((28, 28)))\n",
        "        \n",
        "    if layer_output.shape[3] >= 35:\n",
        "        plot_x, plot_y = 6, 6\n",
        "    elif layer_output.shape[3] >= 23:\n",
        "        plot_x, plot_y = 4, 6\n",
        "    elif layer_output.shape[3] >= 11:\n",
        "        plot_x, plot_y = 2, 6\n",
        "    else:\n",
        "        plot_x, plot_y = 1, 2\n",
        "    fig, ax = plt.subplots(plot_x, plot_y, figsize = (12, 12))\n",
        "    ax[0, 0].imshow(img.reshape((28, 28)), cmap = 'gray')\n",
        "    ax[0, 0].set_title('Input image')\n",
        "    fig.suptitle('Input image and %s filters' % (layer_name,))\n",
        "    fig.tight_layout(pad = 0.3, rect = [0, 0, 0.9, 0.9])\n",
        "    for (x, y) in [(i, j) for i in range(plot_x) for j in range(plot_y)]:\n",
        "        if x == 0 and y == 0:\n",
        "            continue\n",
        "        ax[x, y].imshow(img_ascs[x * plot_y + y - 1], cmap = 'gray')\n",
        "        ax[x, y].set_title('filter %d' % (x * plot_y + y - 1))\n",
        "\n",
        "vis_img_in_filter()"
      ],
      "execution_count": 0,
      "outputs": []
    },
    {
      "cell_type": "code",
      "metadata": {
        "id": "9tvptcn8dxvp",
        "colab_type": "code",
        "colab": {}
      },
      "source": [
        ""
      ],
      "execution_count": 0,
      "outputs": []
    }
  ]
}